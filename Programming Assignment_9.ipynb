{
 "cells": [
  {
   "cell_type": "markdown",
   "id": "47b9bb99",
   "metadata": {},
   "source": [
    "## Programming Assignment_9\n",
    "----------------"
   ]
  },
  {
   "cell_type": "markdown",
   "id": "c725f7a9",
   "metadata": {},
   "source": [
    "### 1. Write a Python program to check if the given number is a Disarium Number?"
   ]
  },
  {
   "cell_type": "code",
   "execution_count": 1,
   "id": "4d6c23e3",
   "metadata": {},
   "outputs": [],
   "source": [
    "def disarium_number(x):\n",
    "    y = str(x)\n",
    "    total = 0\n",
    "    for i in range(len(y)):\n",
    "        total = total + int(y[i])**(i+1)\n",
    "    if total == x:\n",
    "        return \"a disarium number\"\n",
    "    else:\n",
    "        return 'not disarium number'     "
   ]
  },
  {
   "cell_type": "code",
   "execution_count": 2,
   "id": "227b0e33",
   "metadata": {
    "scrolled": true
   },
   "outputs": [
    {
     "data": {
      "text/plain": [
       "'a disarium number'"
      ]
     },
     "execution_count": 2,
     "metadata": {},
     "output_type": "execute_result"
    }
   ],
   "source": [
    "disarium_number(175)"
   ]
  },
  {
   "cell_type": "code",
   "execution_count": 3,
   "id": "a8b4e16a",
   "metadata": {},
   "outputs": [
    {
     "data": {
      "text/plain": [
       "'not disarium number'"
      ]
     },
     "execution_count": 3,
     "metadata": {},
     "output_type": "execute_result"
    }
   ],
   "source": [
    "disarium_number(100)"
   ]
  },
  {
   "cell_type": "markdown",
   "id": "f0064401",
   "metadata": {},
   "source": [
    "### 2. Write a Python program to print all disarium numbers between 1 to 100?"
   ]
  },
  {
   "cell_type": "code",
   "execution_count": 4,
   "id": "e2455bfc",
   "metadata": {},
   "outputs": [],
   "source": [
    "def disarium_number(x1,x2):\n",
    "    for x in range(x1,x2):\n",
    "        y = str(x)\n",
    "        total = 0\n",
    "        for i in range(len(y)):\n",
    "            total = total + int(y[i])**(i+1)\n",
    "        if total == x:\n",
    "            print(x,\"a disarium number\")\n",
    "        else:\n",
    "            pass\n",
    "            "
   ]
  },
  {
   "cell_type": "code",
   "execution_count": 5,
   "id": "0698b22a",
   "metadata": {
    "scrolled": true
   },
   "outputs": [
    {
     "name": "stdout",
     "output_type": "stream",
     "text": [
      "1 a disarium number\n",
      "2 a disarium number\n",
      "3 a disarium number\n",
      "4 a disarium number\n",
      "5 a disarium number\n",
      "6 a disarium number\n",
      "7 a disarium number\n",
      "8 a disarium number\n",
      "9 a disarium number\n",
      "89 a disarium number\n"
     ]
    }
   ],
   "source": [
    "disarium_number(1,100)"
   ]
  },
  {
   "cell_type": "markdown",
   "id": "31df1e4a",
   "metadata": {},
   "source": [
    "### 3. Write a Python program to check if the given number is Happy Number?"
   ]
  },
  {
   "cell_type": "code",
   "execution_count": 6,
   "id": "c456610d",
   "metadata": {},
   "outputs": [],
   "source": [
    "def is_happy_number(num):\n",
    "    \"\"\"\n",
    "    Returns True if the given number is a happy number,\n",
    "    False otherwise.\n",
    "    \"\"\"\n",
    "    seen = set()\n",
    "    while num not in seen:\n",
    "        seen.add(num)\n",
    "        num = sum(int(digit)**2 for digit in str(num))\n",
    "        if num == 1:\n",
    "            return True\n",
    "    return False\n"
   ]
  },
  {
   "cell_type": "code",
   "execution_count": 7,
   "id": "d227acd3",
   "metadata": {},
   "outputs": [],
   "source": [
    "is_happy_number(20)"
   ]
  },
  {
   "cell_type": "markdown",
   "id": "51b265e3",
   "metadata": {},
   "source": [
    "### 4. Write a Python program to print all happy numbers between 1 and 100?"
   ]
  },
  {
   "cell_type": "code",
   "execution_count": 8,
   "id": "f96ba8b8",
   "metadata": {},
   "outputs": [
    {
     "name": "stdout",
     "output_type": "stream",
     "text": [
      "1\n",
      "7\n",
      "10\n",
      "13\n",
      "19\n",
      "23\n",
      "28\n",
      "31\n",
      "32\n",
      "44\n",
      "49\n",
      "68\n",
      "70\n",
      "79\n",
      "82\n",
      "86\n",
      "91\n",
      "94\n",
      "97\n",
      "100\n"
     ]
    }
   ],
   "source": [
    "def is_happy_number(num):\n",
    "    \"\"\"\n",
    "    Returns True if the given number is a happy number,\n",
    "    False otherwise.\n",
    "    \"\"\"\n",
    "    seen = set()\n",
    "    while num not in seen:\n",
    "        seen.add(num)\n",
    "        num = sum(int(digit)**2 for digit in str(num))\n",
    "        if num == 1:\n",
    "            return True\n",
    "    return False\n",
    "\n",
    "def print_happy_numbers():\n",
    "    \"\"\"\n",
    "    Prints all the happy numbers between 1 and 100.\n",
    "    \"\"\"\n",
    "    for num in range(1, 101):\n",
    "        if is_happy_number(num):\n",
    "            print(num)\n",
    "\n",
    "print_happy_numbers()\n"
   ]
  },
  {
   "cell_type": "markdown",
   "id": "6a190ee0",
   "metadata": {},
   "source": [
    "### 5. Write a Python program to determine whether the given number is a Harshad Number?"
   ]
  },
  {
   "cell_type": "markdown",
   "id": "7a7ea92e",
   "metadata": {},
   "source": [
    "### 6. Write a Python program to print all pronic numbers between 1 and 100?"
   ]
  }
 ],
 "metadata": {
  "kernelspec": {
   "display_name": "Python 3 (ipykernel)",
   "language": "python",
   "name": "python3"
  },
  "language_info": {
   "codemirror_mode": {
    "name": "ipython",
    "version": 3
   },
   "file_extension": ".py",
   "mimetype": "text/x-python",
   "name": "python",
   "nbconvert_exporter": "python",
   "pygments_lexer": "ipython3",
   "version": "3.10.9"
  }
 },
 "nbformat": 4,
 "nbformat_minor": 5
}
