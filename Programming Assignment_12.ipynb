{
 "cells": [
  {
   "cell_type": "markdown",
   "id": "b7231b20",
   "metadata": {},
   "source": [
    "# Python Basic Programming Assignment 12\n",
    "-------------"
   ]
  },
  {
   "cell_type": "markdown",
   "id": "d2ec324d",
   "metadata": {},
   "source": [
    "### 1. Write a Python program to Extract Unique values dictionary values?"
   ]
  },
  {
   "cell_type": "code",
   "execution_count": 1,
   "id": "16997a08",
   "metadata": {},
   "outputs": [],
   "source": [
    "def unique_dict_values(dictionary):\n",
    "    \"\"\"\n",
    "    Returns a list of unique values from the given dictionary.\n",
    "    \"\"\"\n",
    "    unique_values = []\n",
    "    for value in dictionary.values():\n",
    "        if value not in unique_values:\n",
    "            unique_values.append(value)\n",
    "    return unique_values\n"
   ]
  },
  {
   "cell_type": "code",
   "execution_count": 2,
   "id": "a68da08d",
   "metadata": {},
   "outputs": [
    {
     "data": {
      "text/plain": [
       "[1, 2, 3]"
      ]
     },
     "execution_count": 2,
     "metadata": {},
     "output_type": "execute_result"
    }
   ],
   "source": [
    "dictionary = {'a': 1, 'b': 2, 'c': 1, 'd': 3, 'e': 2}\n",
    "unique_dict_values(dictionary)\n"
   ]
  },
  {
   "cell_type": "markdown",
   "id": "203bcbc3",
   "metadata": {},
   "source": [
    "### 2. Write a Python program to find the sum of all items in a dictionary?"
   ]
  },
  {
   "cell_type": "code",
   "execution_count": 3,
   "id": "5bd44e11",
   "metadata": {},
   "outputs": [],
   "source": [
    "def sum_dict_items(dictionary):\n",
    "    \"\"\"\n",
    "    Returns the sum of all values in the given dictionary.\n",
    "    \"\"\"\n",
    "    return sum(dictionary.values())\n"
   ]
  },
  {
   "cell_type": "code",
   "execution_count": 4,
   "id": "42c0ece4",
   "metadata": {},
   "outputs": [
    {
     "data": {
      "text/plain": [
       "15"
      ]
     },
     "execution_count": 4,
     "metadata": {},
     "output_type": "execute_result"
    }
   ],
   "source": [
    "dictionary = {'a': 1, 'b': 2, 'c': 3, 'd': 4, 'e': 5}\n",
    "sum_dict_items(dictionary)\n"
   ]
  },
  {
   "cell_type": "markdown",
   "id": "edfbc682",
   "metadata": {},
   "source": [
    "### 3. Write a Python program to Merging two Dictionaries?"
   ]
  },
  {
   "cell_type": "code",
   "execution_count": 5,
   "id": "ad47618f",
   "metadata": {},
   "outputs": [],
   "source": [
    "def merge_dicts(dict1, dict2):\n",
    "    \"\"\"\n",
    "    Returns a new dictionary that is the result of merging the given two dictionaries.\n",
    "    \"\"\"\n",
    "    merged_dict = dict1.copy()\n",
    "    merged_dict.update(dict2)\n",
    "    return merged_dict\n"
   ]
  },
  {
   "cell_type": "code",
   "execution_count": 6,
   "id": "cd51869e",
   "metadata": {},
   "outputs": [
    {
     "data": {
      "text/plain": [
       "{'a': 1, 'b': 2, 'c': 3, 'd': 4, 'e': 5, 'f': 6}"
      ]
     },
     "execution_count": 6,
     "metadata": {},
     "output_type": "execute_result"
    }
   ],
   "source": [
    "dict1 = {'a': 1, 'b': 2, 'c': 3}\n",
    "dict2 = {'d': 4, 'e': 5, 'f': 6}\n",
    "merge_dicts(dict1, dict2)\n"
   ]
  },
  {
   "cell_type": "markdown",
   "id": "62eaf687",
   "metadata": {},
   "source": [
    "### 4. Write a Python program to convert key-values list to flat dictionary?"
   ]
  },
  {
   "cell_type": "code",
   "execution_count": null,
   "id": "88d582da",
   "metadata": {},
   "outputs": [],
   "source": [
    "def list_to_dict(lst):\n",
    "    \"\"\"\n",
    "    Converts the given key-value list to a flat dictionary.\n",
    "    \"\"\"\n",
    "    flat_dict = {}\n",
    "    for pair in lst:\n",
    "        key, value = pair\n",
    "        flat_dict[key] = value\n",
    "    return flat_dict\n"
   ]
  },
  {
   "cell_type": "code",
   "execution_count": null,
   "id": "084379ce",
   "metadata": {},
   "outputs": [],
   "source": [
    "key_values_list = [('a', 1), ('b', 2), ('c', 3)]\n",
    "list_to_dict(key_values_list)\n"
   ]
  },
  {
   "cell_type": "markdown",
   "id": "fcc5015f",
   "metadata": {},
   "source": [
    "### 5. Write a Python program to insertion at the beginning in OrderedDict?"
   ]
  },
  {
   "cell_type": "code",
   "execution_count": null,
   "id": "1ecf1e4a",
   "metadata": {},
   "outputs": [],
   "source": [
    "from collections import OrderedDict\n",
    "\n",
    "def insert_at_beginning(odict, key, value):\n",
    "    \"\"\"\n",
    "    Inserts the given key-value pair at the beginning of the given OrderedDict.\n",
    "    \"\"\"\n",
    "    odict.update({key: value})\n",
    "    odict.move_to_end(key, last=False)\n",
    "    return odict\n"
   ]
  },
  {
   "cell_type": "code",
   "execution_count": null,
   "id": "bf644076",
   "metadata": {},
   "outputs": [],
   "source": [
    "odict = OrderedDict([('a', 1), ('b', 2), ('c', 3)])\n",
    "insert_at_beginning(odict, 'x', 0)\n",
    "\n"
   ]
  },
  {
   "cell_type": "markdown",
   "id": "5978c9ab",
   "metadata": {},
   "source": [
    "### 6. Write a Python program to check order of character in string using OrderedDict()?"
   ]
  },
  {
   "cell_type": "code",
   "execution_count": null,
   "id": "72b3ad8a",
   "metadata": {},
   "outputs": [],
   "source": [
    "from collections import OrderedDict\n",
    "\n",
    "def check_char_order(string, pattern):\n",
    "    \"\"\"\n",
    "    Checks if the characters in the given pattern string occur in the given\n",
    "    string in the same order as in the pattern.\n",
    "    \"\"\"\n",
    "    # Create an OrderedDict from the pattern string\n",
    "    pattern_dict = OrderedDict.fromkeys(pattern)\n",
    "\n",
    "    # Iterate over the characters in the given string\n",
    "    for char in string:\n",
    "        # Check if the current character is present in the pattern dictionary\n",
    "        if char in pattern_dict:\n",
    "            # If the current character is the next expected character in the pattern\n",
    "            if pattern_dict[char] == None:\n",
    "                # Mark this character as the next expected character in the pattern\n",
    "                pattern_dict[char] = True\n",
    "                # If all characters in the pattern have been found in order\n",
    "                if all(value for value in pattern_dict.values()):\n",
    "                    return True\n",
    "\n",
    "    # If the function has not returned yet, the characters in the pattern were not found in order\n",
    "    return False\n"
   ]
  },
  {
   "cell_type": "markdown",
   "id": "f330da77",
   "metadata": {},
   "source": [
    "### 7. Write a Python program to sort Python Dictionaries by Key or Value?"
   ]
  }
 ],
 "metadata": {
  "kernelspec": {
   "display_name": "Python 3 (ipykernel)",
   "language": "python",
   "name": "python3"
  },
  "language_info": {
   "codemirror_mode": {
    "name": "ipython",
    "version": 3
   },
   "file_extension": ".py",
   "mimetype": "text/x-python",
   "name": "python",
   "nbconvert_exporter": "python",
   "pygments_lexer": "ipython3",
   "version": "3.10.9"
  }
 },
 "nbformat": 4,
 "nbformat_minor": 5
}
