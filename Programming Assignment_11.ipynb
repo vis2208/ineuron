{
 "cells": [
  {
   "cell_type": "markdown",
   "id": "53c7e882",
   "metadata": {},
   "source": [
    "# Python Basic Programming Assignment 11\n",
    "--------------------"
   ]
  },
  {
   "cell_type": "markdown",
   "id": "051da140",
   "metadata": {},
   "source": [
    "### 1. Write a Python program to find words which are greater than given length k?"
   ]
  },
  {
   "cell_type": "code",
   "execution_count": 6,
   "id": "5d40cfec",
   "metadata": {},
   "outputs": [],
   "source": [
    "def find(string,length):\n",
    "    x = string.split()\n",
    "    word_list = []\n",
    "    for i in x:\n",
    "        word_length = len(i)\n",
    "        if word_length > length:\n",
    "            word_list.append(i)\n",
    "    return word_list"
   ]
  },
  {
   "cell_type": "code",
   "execution_count": 21,
   "id": "a00dd295",
   "metadata": {},
   "outputs": [
    {
     "data": {
      "text/plain": [
       "['name', 'Radhe']"
      ]
     },
     "execution_count": 21,
     "metadata": {},
     "output_type": "execute_result"
    }
   ],
   "source": [
    "find('my name is Radhe',2)"
   ]
  },
  {
   "cell_type": "markdown",
   "id": "26719cbd",
   "metadata": {},
   "source": [
    "### 2. Write a Python program for removing i-th character from a string?"
   ]
  },
  {
   "cell_type": "code",
   "execution_count": 17,
   "id": "ba42b270",
   "metadata": {},
   "outputs": [],
   "source": [
    "def remove(string,i):\n",
    "    string_length = len(string)\n",
    "    new_string = ''\n",
    "    for j in range(string_length):\n",
    "        if j == i - 1:\n",
    "            continue\n",
    "        else:\n",
    "            new_string = new_string + string[j]\n",
    "    return new_string    "
   ]
  },
  {
   "cell_type": "code",
   "execution_count": 22,
   "id": "47a45cda",
   "metadata": {},
   "outputs": [
    {
     "data": {
      "text/plain": [
       "'radhe'"
      ]
     },
     "execution_count": 22,
     "metadata": {},
     "output_type": "execute_result"
    }
   ],
   "source": [
    "remove('raAdhe',3) # remove 3rd character from raAdhe"
   ]
  },
  {
   "cell_type": "markdown",
   "id": "51ae6b0f",
   "metadata": {},
   "source": [
    "### 3. Write a Python program to split and join a string?"
   ]
  },
  {
   "cell_type": "code",
   "execution_count": 71,
   "id": "3bce46f9",
   "metadata": {},
   "outputs": [],
   "source": [
    "def split(string,delimiter):\n",
    "    new_string = ''\n",
    "    string_list = []\n",
    "    for i in range(len(string)):\n",
    "        if string[i] != ' ':\n",
    "            new_string = new_string +string[i]\n",
    "        else:\n",
    "            string_list.append(new_string)\n",
    "            \n",
    "            pass\n",
    "    return string_list       "
   ]
  },
  {
   "cell_type": "code",
   "execution_count": 72,
   "id": "4eea68d6",
   "metadata": {},
   "outputs": [
    {
     "data": {
      "text/plain": [
       "['my', 'myname', 'mynameis']"
      ]
     },
     "execution_count": 72,
     "metadata": {},
     "output_type": "execute_result"
    }
   ],
   "source": [
    "split('my name is Radhe',' ')"
   ]
  },
  {
   "cell_type": "markdown",
   "id": "59079fe1",
   "metadata": {},
   "source": [
    "### 4. Write a Python to check if a given string is binary string or not?"
   ]
  },
  {
   "cell_type": "code",
   "execution_count": 1,
   "id": "0f1cab24",
   "metadata": {},
   "outputs": [],
   "source": [
    "def is_binary_string(string):\n",
    "    for char in string:\n",
    "        if char != '0' and char != '1':\n",
    "            return False\n",
    "    return True\n"
   ]
  },
  {
   "cell_type": "code",
   "execution_count": 2,
   "id": "5aeaaaf0",
   "metadata": {},
   "outputs": [
    {
     "data": {
      "text/plain": [
       "True"
      ]
     },
     "execution_count": 2,
     "metadata": {},
     "output_type": "execute_result"
    }
   ],
   "source": [
    "is_binary_string('101010')"
   ]
  },
  {
   "cell_type": "code",
   "execution_count": 3,
   "id": "1e07d786",
   "metadata": {},
   "outputs": [
    {
     "data": {
      "text/plain": [
       "False"
      ]
     },
     "execution_count": 3,
     "metadata": {},
     "output_type": "execute_result"
    }
   ],
   "source": [
    "is_binary_string('1010102')"
   ]
  },
  {
   "cell_type": "markdown",
   "id": "4d6cf11a",
   "metadata": {},
   "source": [
    "### 5. Write a Python program to find uncommon words from two Strings?"
   ]
  },
  {
   "cell_type": "code",
   "execution_count": 4,
   "id": "76af62d9",
   "metadata": {},
   "outputs": [],
   "source": [
    "def find_uncommon_words(str1, str2):\n",
    "    # Split strings into lists of words\n",
    "    words1 = str1.split()\n",
    "    words2 = str2.split()\n",
    "    \n",
    "    # Create sets of words\n",
    "    set1 = set(words1)\n",
    "    set2 = set(words2)\n",
    "    \n",
    "    # Find the uncommon words\n",
    "    uncommon_words = set1.symmetric_difference(set2)\n",
    "    \n",
    "    return uncommon_words\n"
   ]
  },
  {
   "cell_type": "code",
   "execution_count": 5,
   "id": "33a353a2",
   "metadata": {},
   "outputs": [
    {
     "name": "stdout",
     "output_type": "stream",
     "text": [
      "{'red', 'lazy'}\n"
     ]
    }
   ],
   "source": [
    "str1 = \"the quick brown fox jumps over the lazy dog\"\n",
    "str2 = \"the quick red fox jumps over the brown dog\"\n",
    "uncommon_words = find_uncommon_words(str1, str2)\n",
    "print(uncommon_words)\n"
   ]
  },
  {
   "cell_type": "markdown",
   "id": "e2b24677",
   "metadata": {},
   "source": [
    "### 6. Write a Python to find all duplicate characters in string?"
   ]
  },
  {
   "cell_type": "code",
   "execution_count": 6,
   "id": "0a4248d1",
   "metadata": {},
   "outputs": [],
   "source": [
    "def find_duplicate_chars(string):\n",
    "    # Create an empty set to store duplicate characters\n",
    "    duplicates = set()\n",
    "    \n",
    "    # Create an empty set to store non-duplicate characters\n",
    "    non_duplicates = set()\n",
    "    \n",
    "    # Iterate through each character in the string\n",
    "    for char in string:\n",
    "        # Check if the character is already in the non-duplicate set\n",
    "        # If it is, then it is a duplicate\n",
    "        if char in non_duplicates:\n",
    "            duplicates.add(char)\n",
    "        else:\n",
    "            non_duplicates.add(char)\n",
    "    \n",
    "    return duplicates"
   ]
  },
  {
   "cell_type": "markdown",
   "id": "1a6af7e4",
   "metadata": {},
   "source": [
    "### 7. Write a Python Program to check if a string contains any special character?"
   ]
  }
 ],
 "metadata": {
  "kernelspec": {
   "display_name": "Python 3 (ipykernel)",
   "language": "python",
   "name": "python3"
  },
  "language_info": {
   "codemirror_mode": {
    "name": "ipython",
    "version": 3
   },
   "file_extension": ".py",
   "mimetype": "text/x-python",
   "name": "python",
   "nbconvert_exporter": "python",
   "pygments_lexer": "ipython3",
   "version": "3.10.9"
  }
 },
 "nbformat": 4,
 "nbformat_minor": 5
}
