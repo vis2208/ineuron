{
 "cells": [
  {
   "cell_type": "markdown",
   "id": "ad3c798a",
   "metadata": {
    "id": "ad3c798a"
   },
   "source": [
    "## Programming Assignment_3\n",
    "----------------"
   ]
  },
  {
   "cell_type": "markdown",
   "id": "fdeb4706",
   "metadata": {
    "id": "fdeb4706"
   },
   "source": [
    "### 1. Write a Python Program to Check if a Number is Positive, Negative or Zero?"
   ]
  },
  {
   "cell_type": "code",
   "execution_count": 6,
   "id": "cd024283",
   "metadata": {},
   "outputs": [],
   "source": [
    "def check(number):\n",
    "    if number < 0:\n",
    "        print(\"Negative\")\n",
    "    elif number == 0:\n",
    "        print(\"Zero\")\n",
    "    else:\n",
    "        print(\"Positive\")"
   ]
  },
  {
   "cell_type": "code",
   "execution_count": 10,
   "id": "a0c97326",
   "metadata": {},
   "outputs": [
    {
     "name": "stdout",
     "output_type": "stream",
     "text": [
      "Positive\n"
     ]
    }
   ],
   "source": [
    "check(5)"
   ]
  },
  {
   "cell_type": "code",
   "execution_count": 11,
   "id": "be48895d",
   "metadata": {},
   "outputs": [
    {
     "name": "stdout",
     "output_type": "stream",
     "text": [
      "Negative\n"
     ]
    }
   ],
   "source": [
    "check(-10)"
   ]
  },
  {
   "cell_type": "code",
   "execution_count": 12,
   "id": "011c3fd2",
   "metadata": {},
   "outputs": [
    {
     "name": "stdout",
     "output_type": "stream",
     "text": [
      "Zero\n"
     ]
    }
   ],
   "source": [
    "check(0)"
   ]
  },
  {
   "cell_type": "markdown",
   "id": "086bfded",
   "metadata": {
    "id": "086bfded"
   },
   "source": [
    "### 2. Write a Python Program to Check if a Number is Odd or Even?\n"
   ]
  },
  {
   "cell_type": "code",
   "execution_count": 24,
   "id": "02aa925f",
   "metadata": {},
   "outputs": [],
   "source": [
    "def even_odd(number):\n",
    "    if number%2 == 0:\n",
    "        print('Even number')\n",
    "    else:\n",
    "        print(\"Odd number\")"
   ]
  },
  {
   "cell_type": "code",
   "execution_count": 25,
   "id": "fddd2147",
   "metadata": {},
   "outputs": [
    {
     "name": "stdout",
     "output_type": "stream",
     "text": [
      "Odd number\n"
     ]
    }
   ],
   "source": [
    "even_odd(5)"
   ]
  },
  {
   "cell_type": "code",
   "execution_count": 26,
   "id": "0beb7d3b",
   "metadata": {},
   "outputs": [
    {
     "name": "stdout",
     "output_type": "stream",
     "text": [
      "Even number\n"
     ]
    }
   ],
   "source": [
    "even_odd(12)"
   ]
  },
  {
   "cell_type": "markdown",
   "id": "575e4f94",
   "metadata": {
    "id": "575e4f94"
   },
   "source": [
    "### 3. Write a Python Program to Check Leap Year?\n"
   ]
  },
  {
   "cell_type": "code",
   "execution_count": 30,
   "id": "a2371843",
   "metadata": {},
   "outputs": [],
   "source": [
    "def leap_year(year):\n",
    "    if year % 4 == 0:\n",
    "        print('Leap year')\n",
    "    else:\n",
    "        print('Not leap year')"
   ]
  },
  {
   "cell_type": "code",
   "execution_count": 31,
   "id": "3e6af71f",
   "metadata": {},
   "outputs": [
    {
     "name": "stdout",
     "output_type": "stream",
     "text": [
      "Leap year\n"
     ]
    }
   ],
   "source": [
    "leap_year(2000)"
   ]
  },
  {
   "cell_type": "code",
   "execution_count": 32,
   "id": "157f3e34",
   "metadata": {},
   "outputs": [
    {
     "name": "stdout",
     "output_type": "stream",
     "text": [
      "Not leap year\n"
     ]
    }
   ],
   "source": [
    "leap_year(2002)"
   ]
  },
  {
   "cell_type": "markdown",
   "id": "aa83ce63",
   "metadata": {
    "id": "aa83ce63"
   },
   "source": [
    "### 4. Write a Python Program to Check Prime Number?"
   ]
  },
  {
   "cell_type": "code",
   "execution_count": 103,
   "id": "41a3d794",
   "metadata": {},
   "outputs": [],
   "source": [
    "def check_prime_number(number):\n",
    "        if number == 0:\n",
    "            print(\"Neither a Prime nor a not-Prime \")\n",
    "        elif number == 1 or number ==2:\n",
    "            print('a Prime Number')\n",
    "            \n",
    "        elif (number != 0) and (number !=1):\n",
    "            if (number % 1 == 0) and (number % number == 0) :\n",
    "                for i in range(2,number):\n",
    "                    if number % i == 0:\n",
    "                        print(\"Not a Prime Number\")\n",
    "                        break\n",
    "                else:\n",
    "                    print('a Prime Number')"
   ]
  },
  {
   "cell_type": "code",
   "execution_count": 125,
   "id": "6d491be5",
   "metadata": {},
   "outputs": [
    {
     "name": "stdout",
     "output_type": "stream",
     "text": [
      "Neither a Prime nor a not-Prime \n"
     ]
    }
   ],
   "source": [
    "check_prime_number(0)"
   ]
  },
  {
   "cell_type": "code",
   "execution_count": 116,
   "id": "5d0e0f83",
   "metadata": {},
   "outputs": [
    {
     "name": "stdout",
     "output_type": "stream",
     "text": [
      "a Prime Number\n"
     ]
    }
   ],
   "source": [
    "check_prime_number(1)"
   ]
  },
  {
   "cell_type": "code",
   "execution_count": 117,
   "id": "72c859a9",
   "metadata": {},
   "outputs": [
    {
     "name": "stdout",
     "output_type": "stream",
     "text": [
      "a Prime Number\n"
     ]
    }
   ],
   "source": [
    "check_prime_number(2)"
   ]
  },
  {
   "cell_type": "code",
   "execution_count": 118,
   "id": "3211f6b7",
   "metadata": {},
   "outputs": [
    {
     "name": "stdout",
     "output_type": "stream",
     "text": [
      "a Prime Number\n"
     ]
    }
   ],
   "source": [
    "check_prime_number(3)"
   ]
  },
  {
   "cell_type": "code",
   "execution_count": 119,
   "id": "eda55ca1",
   "metadata": {},
   "outputs": [
    {
     "name": "stdout",
     "output_type": "stream",
     "text": [
      "Not a Prime Number\n"
     ]
    }
   ],
   "source": [
    "check_prime_number(4)"
   ]
  },
  {
   "cell_type": "code",
   "execution_count": 120,
   "id": "4b8c4828",
   "metadata": {},
   "outputs": [
    {
     "name": "stdout",
     "output_type": "stream",
     "text": [
      "a Prime Number\n"
     ]
    }
   ],
   "source": [
    "check_prime_number(5)"
   ]
  },
  {
   "cell_type": "markdown",
   "id": "b44b54ff",
   "metadata": {
    "id": "b44b54ff"
   },
   "source": [
    "### 5. Write a Python Program to Print all Prime Numbers in an Interval of 1-10000?"
   ]
  },
  {
   "cell_type": "code",
   "execution_count": 123,
   "id": "ae638636",
   "metadata": {},
   "outputs": [
    {
     "name": "stdout",
     "output_type": "stream",
     "text": [
      "1\n",
      "2\n",
      "3\n",
      "5\n",
      "7\n",
      "11\n",
      "13\n",
      "17\n",
      "19\n",
      "23\n",
      "29\n",
      "31\n",
      "37\n",
      "41\n",
      "43\n",
      "47\n",
      "53\n",
      "59\n",
      "61\n",
      "67\n",
      "71\n",
      "73\n",
      "79\n",
      "83\n",
      "89\n",
      "97\n"
     ]
    }
   ],
   "source": [
    "for number in range(1,100):\n",
    "        if number == 0:\n",
    "            pass\n",
    "        elif number == 1 or number ==2:\n",
    "            print(number)\n",
    "            \n",
    "        elif (number != 0) and (number !=1):\n",
    "            if (number % 1 == 0) and (number % number == 0) :\n",
    "                for i in range(2,number):\n",
    "                    if number % i == 0:\n",
    "                        pass\n",
    "                        break\n",
    "                else:\n",
    "                    print(number)"
   ]
  },
  {
   "cell_type": "code",
   "execution_count": null,
   "id": "0ccad4ce",
   "metadata": {},
   "outputs": [],
   "source": []
  }
 ],
 "metadata": {
  "colab": {
   "provenance": []
  },
  "kernelspec": {
   "display_name": "Python 3 (ipykernel)",
   "language": "python",
   "name": "python3"
  },
  "language_info": {
   "codemirror_mode": {
    "name": "ipython",
    "version": 3
   },
   "file_extension": ".py",
   "mimetype": "text/x-python",
   "name": "python",
   "nbconvert_exporter": "python",
   "pygments_lexer": "ipython3",
   "version": "3.9.13"
  }
 },
 "nbformat": 4,
 "nbformat_minor": 5
}
