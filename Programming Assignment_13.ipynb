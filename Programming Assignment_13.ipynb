{
 "cells": [
  {
   "cell_type": "markdown",
   "id": "62fd0c8e",
   "metadata": {},
   "source": [
    "# Python Programming Basic Assignment 13"
   ]
  },
  {
   "cell_type": "markdown",
   "id": "ed4a3c0b",
   "metadata": {},
   "source": [
    "\n",
    "### 1. Write a program that calculates and prints the value according to the given formula:\n",
    "Q = Square root of [(2 C D)/H]\n",
    "\n",
    "Following are the fixed values of C and H:\n",
    "\n",
    "C is 50. H is 30.\n",
    "\n",
    "D is the variable whose values should be input to your program in a comma-separated sequence.\n",
    "\n",
    "Example\n",
    "\n",
    "Let us assume the following comma separated input sequence is given to the program:\n",
    "\n",
    "100,150,180\n",
    "\n",
    "The output of the program should be:\n",
    "\n",
    "18,22,24"
   ]
  },
  {
   "cell_type": "code",
   "execution_count": 122,
   "id": "0c73065c",
   "metadata": {},
   "outputs": [],
   "source": [
    "import math\n",
    "def output():\n",
    "    c = 50\n",
    "    H = 30\n",
    "    x = input()\n",
    "    y = x.strip().split(',')\n",
    "    for i in y:\n",
    "        output = math.sqrt(2*float(i)*c/H)\n",
    "        print(int(round(output,0)),end=',')\n",
    "        "
   ]
  },
  {
   "cell_type": "code",
   "execution_count": 123,
   "id": "2217f710",
   "metadata": {},
   "outputs": [
    {
     "name": "stdout",
     "output_type": "stream",
     "text": [
      "100,150,180\n",
      "18,22,24,"
     ]
    }
   ],
   "source": [
    "output()"
   ]
  },
  {
   "cell_type": "markdown",
   "id": "ed37b6ed",
   "metadata": {},
   "source": [
    "### 2. Write a program which takes 2 digits, X,Y as input and generates a 2-dimensional array. The element value in the i-th row and j-th column of the array should be i*j."
   ]
  },
  {
   "cell_type": "code",
   "execution_count": 128,
   "id": "2d4a3017",
   "metadata": {},
   "outputs": [],
   "source": [
    "import numpy as np\n",
    "def array(x,y):\n",
    "    array = np.zeros(shape=(x,y),dtype = 'int')\n",
    "    for i in range(x):\n",
    "        for j in range(y):\n",
    "            array[i][j] = (i+1)*(j+1)\n",
    "    return array "
   ]
  },
  {
   "cell_type": "code",
   "execution_count": 129,
   "id": "468373e8",
   "metadata": {},
   "outputs": [
    {
     "data": {
      "text/plain": [
       "array([[1, 2, 3, 4],\n",
       "       [2, 4, 6, 8]])"
      ]
     },
     "execution_count": 129,
     "metadata": {},
     "output_type": "execute_result"
    }
   ],
   "source": [
    "array(2,4)"
   ]
  },
  {
   "cell_type": "markdown",
   "id": "bc7f977b",
   "metadata": {},
   "source": [
    "### 3. Write a program that accepts a comma separated sequence of words as input and prints the words in a comma-separated sequence after sorting them alphabetically."
   ]
  },
  {
   "cell_type": "code",
   "execution_count": 132,
   "id": "59983754",
   "metadata": {},
   "outputs": [],
   "source": [
    "def words_sort():\n",
    "    x = input()\n",
    "    y = x.strip().split(sep = ',')\n",
    "    y.sort()\n",
    "    for i in y:\n",
    "        print(i,end=',')"
   ]
  },
  {
   "cell_type": "code",
   "execution_count": 133,
   "id": "ee81c479",
   "metadata": {},
   "outputs": [
    {
     "name": "stdout",
     "output_type": "stream",
     "text": [
      "apple,ball,Apple,dog\n",
      "Apple,apple,ball,dog,"
     ]
    }
   ],
   "source": [
    "words_sort()"
   ]
  },
  {
   "cell_type": "markdown",
   "id": "171c3d90",
   "metadata": {},
   "source": [
    "### 4. Write a program that accepts a sequence of whitespace separated words as input and prints the words after removing all duplicate words and sorting them alphanumerically."
   ]
  },
  {
   "cell_type": "code",
   "execution_count": 141,
   "id": "4df8e834",
   "metadata": {},
   "outputs": [],
   "source": [
    "def remove_duplicate_sort():\n",
    "    x = input()\n",
    "    y = x.strip().split(sep = ' ')\n",
    "    y.sort()\n",
    "    z = set(y)\n",
    "    for i in z:\n",
    "        print(i, end = ' ')"
   ]
  },
  {
   "cell_type": "code",
   "execution_count": 142,
   "id": "8dd10015",
   "metadata": {},
   "outputs": [
    {
     "name": "stdout",
     "output_type": "stream",
     "text": [
      "ball apple cat apple\n",
      "apple ball cat "
     ]
    }
   ],
   "source": [
    "remove_duplicate_sort()"
   ]
  },
  {
   "cell_type": "markdown",
   "id": "88d25c49",
   "metadata": {},
   "source": [
    "### 5. Write a program that accepts a sentence and calculate the number of letters and digits."
   ]
  },
  {
   "cell_type": "code",
   "execution_count": 63,
   "id": "3116bd8b",
   "metadata": {},
   "outputs": [],
   "source": [
    "def count(sentence):\n",
    "    letter_count = 0\n",
    "    digit_count = 0\n",
    "    for i in sentence:\n",
    "        if i.isdigit():\n",
    "            digit_count = digit_count + 1\n",
    "        elif i.isalpha():\n",
    "            letter_count = letter_count + 1\n",
    "        else:\n",
    "            pass\n",
    "    print(\"number of digit:\",digit_count,'\\n',\"number of letter:\",letter_count)         "
   ]
  },
  {
   "cell_type": "code",
   "execution_count": 64,
   "id": "1917ed2f",
   "metadata": {},
   "outputs": [
    {
     "name": "stdout",
     "output_type": "stream",
     "text": [
      "number of digit: 2 \n",
      " number of letter: 7\n"
     ]
    }
   ],
   "source": [
    "count('my age is 25')"
   ]
  },
  {
   "cell_type": "markdown",
   "id": "9695c4ca",
   "metadata": {},
   "source": [
    "### 6. A website requires the users to input username and password to register. Write a program to check the validity of password input by users."
   ]
  },
  {
   "cell_type": "code",
   "execution_count": 82,
   "id": "f2e2401d",
   "metadata": {},
   "outputs": [],
   "source": [
    "def check_validity(username,password):\n",
    "    password_length = len(password)\n",
    "    lowerletter_count = 0\n",
    "    upperletter_count = 0\n",
    "    specialletter_count = 0\n",
    "    if password_length >= 8 and password_length <= 16:\n",
    "        pass\n",
    "    else:\n",
    "        print('password must have 8 and more character and less than 16')\n",
    "    for i in password:\n",
    "        if i.islower():\n",
    "            lowerletter_count = lowerletter_count + 1\n",
    "        else:\n",
    "            pass\n",
    "    for i in password:\n",
    "        if i.isupper():\n",
    "            upperletter_count = upperletter_count + 1\n",
    "        else:\n",
    "            pass\n",
    "    for i in password:\n",
    "        if i in ['@','_','!','#','$','%','^','&']:\n",
    "            specialletter_count = specialletter_count + 1\n",
    "        else:\n",
    "            pass\n",
    "    if lowerletter_count >= 1:\n",
    "        pass\n",
    "    else:\n",
    "        print('password must have 1 lower letter')\n",
    "    if upperletter_count >= 1:\n",
    "        pass\n",
    "    else:\n",
    "        print('password must have 1 upper letter')\n",
    "    if specialletter_count >= 1:\n",
    "        pass\n",
    "    else:\n",
    "        print('password must have 1 special letter')\n",
    "    if lowerletter_count >= 1 and upperletter_count >= 1 and specialletter_count >= 1 and password_length >= 8 and password_length <= 16 :\n",
    "        print('password is strong')\n",
    "    else:\n",
    "        print('password is not strong')"
   ]
  },
  {
   "cell_type": "code",
   "execution_count": 85,
   "id": "96d8a0f0",
   "metadata": {},
   "outputs": [
    {
     "name": "stdout",
     "output_type": "stream",
     "text": [
      "password must have 8 and more character and less than 16\n",
      "password must have 1 special letter\n",
      "password is not strong\n"
     ]
    }
   ],
   "source": [
    "check_validity('user','Pass')"
   ]
  },
  {
   "cell_type": "code",
   "execution_count": 86,
   "id": "a01818e8",
   "metadata": {},
   "outputs": [
    {
     "name": "stdout",
     "output_type": "stream",
     "text": [
      "password must have 1 special letter\n",
      "password is not strong\n"
     ]
    }
   ],
   "source": [
    "check_validity('user','Password')"
   ]
  },
  {
   "cell_type": "code",
   "execution_count": 87,
   "id": "912547cf",
   "metadata": {},
   "outputs": [
    {
     "name": "stdout",
     "output_type": "stream",
     "text": [
      "password is strong\n"
     ]
    }
   ],
   "source": [
    "check_validity('user','Pass@word')"
   ]
  },
  {
   "cell_type": "code",
   "execution_count": null,
   "id": "959c5f37",
   "metadata": {},
   "outputs": [],
   "source": []
  }
 ],
 "metadata": {
  "kernelspec": {
   "display_name": "Python 3 (ipykernel)",
   "language": "python",
   "name": "python3"
  },
  "language_info": {
   "codemirror_mode": {
    "name": "ipython",
    "version": 3
   },
   "file_extension": ".py",
   "mimetype": "text/x-python",
   "name": "python",
   "nbconvert_exporter": "python",
   "pygments_lexer": "ipython3",
   "version": "3.9.13"
  }
 },
 "nbformat": 4,
 "nbformat_minor": 5
}
