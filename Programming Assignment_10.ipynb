{
 "cells": [
  {
   "cell_type": "markdown",
   "id": "3dcb940f",
   "metadata": {},
   "source": [
    "## Python Basic Programming Assignment 10"
   ]
  },
  {
   "cell_type": "markdown",
   "id": "6720790a",
   "metadata": {},
   "source": [
    "### 1. Write a Python program to find sum of elements in list?"
   ]
  },
  {
   "cell_type": "code",
   "execution_count": 5,
   "id": "e0e77ed6",
   "metadata": {},
   "outputs": [],
   "source": [
    "def add(x):\n",
    "    total = 0\n",
    "    for i in x:\n",
    "        if type(i) == int:\n",
    "            total = total + i\n",
    "        else:\n",
    "            pass\n",
    "    return total"
   ]
  },
  {
   "cell_type": "code",
   "execution_count": 6,
   "id": "c162654a",
   "metadata": {},
   "outputs": [
    {
     "data": {
      "text/plain": [
       "6"
      ]
     },
     "execution_count": 6,
     "metadata": {},
     "output_type": "execute_result"
    }
   ],
   "source": [
    "add([1,2,'hello',3])"
   ]
  },
  {
   "cell_type": "markdown",
   "id": "fe1137c3",
   "metadata": {},
   "source": [
    "### 2. Write a Python program to  Multiply all numbers in the list?"
   ]
  },
  {
   "cell_type": "code",
   "execution_count": 9,
   "id": "2fedb316",
   "metadata": {},
   "outputs": [],
   "source": [
    "def mul(x):\n",
    "    total = 1\n",
    "    for i in x:\n",
    "        if type(i) == int:\n",
    "            total = total * i\n",
    "        else:\n",
    "            pass\n",
    "    return total"
   ]
  },
  {
   "cell_type": "code",
   "execution_count": 10,
   "id": "d0c17c0b",
   "metadata": {},
   "outputs": [
    {
     "data": {
      "text/plain": [
       "6"
      ]
     },
     "execution_count": 10,
     "metadata": {},
     "output_type": "execute_result"
    }
   ],
   "source": [
    "mul([1,2,'hello',3])"
   ]
  },
  {
   "cell_type": "markdown",
   "id": "078681db",
   "metadata": {},
   "source": [
    "### 3. Write a Python program to find smallest number in a list?"
   ]
  },
  {
   "cell_type": "code",
   "execution_count": 25,
   "id": "2a3cac88",
   "metadata": {},
   "outputs": [],
   "source": [
    "def smallest(x):\n",
    "    small = x[0]\n",
    "    for i in range(1,len(x)):\n",
    "        \n",
    "        if type(x[i]) == int:\n",
    "            if x[i] < small:\n",
    "                small = x[i]\n",
    "            else:\n",
    "                small = small\n",
    "        else:\n",
    "            pass\n",
    "    return small"
   ]
  },
  {
   "cell_type": "code",
   "execution_count": 26,
   "id": "9106774f",
   "metadata": {},
   "outputs": [
    {
     "data": {
      "text/plain": [
       "2"
      ]
     },
     "execution_count": 26,
     "metadata": {},
     "output_type": "execute_result"
    }
   ],
   "source": [
    "smallest([5,2,'hello',3])"
   ]
  },
  {
   "cell_type": "markdown",
   "id": "12b04397",
   "metadata": {},
   "source": [
    "### 4. Write a Python program to find largest number in a list?"
   ]
  },
  {
   "cell_type": "code",
   "execution_count": 27,
   "id": "0892331e",
   "metadata": {},
   "outputs": [],
   "source": [
    "def largest(x):\n",
    "    large = x[0]\n",
    "    for i in range(1,len(x)):\n",
    "        \n",
    "        if type(x[i]) == int:\n",
    "            if x[i] > large:\n",
    "                large = x[i]\n",
    "            else:\n",
    "                large = large\n",
    "        else:\n",
    "            pass\n",
    "    return large"
   ]
  },
  {
   "cell_type": "code",
   "execution_count": 28,
   "id": "4b278c9d",
   "metadata": {},
   "outputs": [
    {
     "data": {
      "text/plain": [
       "7"
      ]
     },
     "execution_count": 28,
     "metadata": {},
     "output_type": "execute_result"
    }
   ],
   "source": [
    "largest([5,7,'hello',3])"
   ]
  },
  {
   "cell_type": "markdown",
   "id": "86442b51",
   "metadata": {},
   "source": [
    "### 5. Write a Python program to find second largest number in a list?"
   ]
  },
  {
   "cell_type": "code",
   "execution_count": 163,
   "id": "73d7a942",
   "metadata": {},
   "outputs": [],
   "source": [
    "def second_largest(x):\n",
    "    large = x[0]\n",
    "    for i in range(1,len(x)):\n",
    "        \n",
    "        if type(x[i]) == int:\n",
    "            if x[i] > large:\n",
    "                large = x[i]\n",
    "            else:\n",
    "                large = large\n",
    "        else:\n",
    "            pass\n",
    "    x.remove(large)\n",
    "    large2 = x[0]\n",
    "    for i in range(1,len(x)):\n",
    "        \n",
    "        if type(x[i]) == int:\n",
    "            if x[i] > large2:\n",
    "                large2 = x[i]\n",
    "            else:\n",
    "                large2 = large2\n",
    "        else:\n",
    "            pass\n",
    "    \n",
    "    \n",
    "    return large2"
   ]
  },
  {
   "cell_type": "code",
   "execution_count": 164,
   "id": "54fd46da",
   "metadata": {},
   "outputs": [
    {
     "data": {
      "text/plain": [
       "5"
      ]
     },
     "execution_count": 164,
     "metadata": {},
     "output_type": "execute_result"
    }
   ],
   "source": [
    "second_largest([5,7,'hello',3])"
   ]
  },
  {
   "cell_type": "code",
   "execution_count": 165,
   "id": "289211f5",
   "metadata": {},
   "outputs": [
    {
     "data": {
      "text/plain": [
       "7"
      ]
     },
     "execution_count": 165,
     "metadata": {},
     "output_type": "execute_result"
    }
   ],
   "source": [
    "second_largest([10,7,'hello',3])"
   ]
  },
  {
   "cell_type": "markdown",
   "id": "10964d7d",
   "metadata": {},
   "source": [
    "### 6. Write a Python program to find N largest elements from a list?"
   ]
  },
  {
   "cell_type": "code",
   "execution_count": 174,
   "id": "1425ba90",
   "metadata": {},
   "outputs": [],
   "source": [
    "def N_largest(x,N):\n",
    "    new_list = []\n",
    "    for i in x:\n",
    "        if type(i) == int:\n",
    "            new_list.append(i)\n",
    "        else:\n",
    "            pass\n",
    "    new_list.sort()\n",
    "    return new_list[-1]"
   ]
  },
  {
   "cell_type": "code",
   "execution_count": 175,
   "id": "9c7e9cce",
   "metadata": {},
   "outputs": [
    {
     "data": {
      "text/plain": [
       "7"
      ]
     },
     "execution_count": 175,
     "metadata": {},
     "output_type": "execute_result"
    }
   ],
   "source": [
    "N_largest([5,7,'hello',3],2)"
   ]
  },
  {
   "cell_type": "markdown",
   "id": "2f1a1e98",
   "metadata": {},
   "source": [
    "### 7. Write a Python program to print even numbers in a list?"
   ]
  },
  {
   "cell_type": "code",
   "execution_count": 88,
   "id": "6cfd9de2",
   "metadata": {},
   "outputs": [],
   "source": [
    "def even(x):\n",
    "    new_list = []\n",
    "    for i in x:\n",
    "        if type(i) == int:\n",
    "            if i%2 == 0:\n",
    "                new_list.append(i)\n",
    "            else:\n",
    "                pass\n",
    "        else:\n",
    "            pass\n",
    "    return new_list"
   ]
  },
  {
   "cell_type": "code",
   "execution_count": 89,
   "id": "c1309dc6",
   "metadata": {},
   "outputs": [
    {
     "data": {
      "text/plain": [
       "[4, 16]"
      ]
     },
     "execution_count": 89,
     "metadata": {},
     "output_type": "execute_result"
    }
   ],
   "source": [
    "even([4,7,'hello',16])"
   ]
  },
  {
   "cell_type": "markdown",
   "id": "989bb324",
   "metadata": {},
   "source": [
    "### 8. Write a Python program to print odd numbers in a List?"
   ]
  },
  {
   "cell_type": "code",
   "execution_count": 90,
   "id": "7f9b915f",
   "metadata": {},
   "outputs": [],
   "source": [
    "def odd(x):\n",
    "    new_list = []\n",
    "    for i in x:\n",
    "        if type(i) == int:\n",
    "            if i%2 != 0:\n",
    "                new_list.append(i)\n",
    "            else:\n",
    "                pass\n",
    "        else:\n",
    "            pass\n",
    "    return new_list"
   ]
  },
  {
   "cell_type": "code",
   "execution_count": 91,
   "id": "d213e3b0",
   "metadata": {},
   "outputs": [
    {
     "data": {
      "text/plain": [
       "[7]"
      ]
     },
     "execution_count": 91,
     "metadata": {},
     "output_type": "execute_result"
    }
   ],
   "source": [
    "odd([4,7,'hello',16])"
   ]
  },
  {
   "cell_type": "markdown",
   "id": "185b7b13",
   "metadata": {},
   "source": [
    "### 9. Write a Python program to Remove empty List from List?"
   ]
  },
  {
   "cell_type": "code",
   "execution_count": 99,
   "id": "66b2007f",
   "metadata": {},
   "outputs": [],
   "source": [
    "def remove_empty(x):\n",
    "    new_list = []\n",
    "    for i in x:\n",
    "        if type(i) == list:\n",
    "            if len(i) >= 1:\n",
    "                new_list.append(i)\n",
    "            else:\n",
    "                pass\n",
    "        else:\n",
    "            new_list.append(i)\n",
    "    return new_list"
   ]
  },
  {
   "cell_type": "code",
   "execution_count": 100,
   "id": "dcd844c6",
   "metadata": {},
   "outputs": [
    {
     "data": {
      "text/plain": [
       "[7, 'hello', 5]"
      ]
     },
     "execution_count": 100,
     "metadata": {},
     "output_type": "execute_result"
    }
   ],
   "source": [
    "remove_empty([7,'hello',[],5])"
   ]
  },
  {
   "cell_type": "markdown",
   "id": "278cfacc",
   "metadata": {},
   "source": [
    "### 10. Write a Python program to Cloning or Copying a list?"
   ]
  },
  {
   "cell_type": "code",
   "execution_count": 108,
   "id": "0de9d5c7",
   "metadata": {},
   "outputs": [],
   "source": [
    "def copy(x):\n",
    "    new_list = []\n",
    "    for i in x:\n",
    "        new_list.append(i)\n",
    "    return new_list"
   ]
  },
  {
   "cell_type": "code",
   "execution_count": 116,
   "id": "6fd583e2",
   "metadata": {},
   "outputs": [
    {
     "name": "stdout",
     "output_type": "stream",
     "text": [
      "[2, 8, 10, 'world', 20] [2, 8, 10, 'world', 20]\n",
      "[6, 8, 10, 'world', 20] [6, 8, 10, 'world', 20]\n"
     ]
    }
   ],
   "source": [
    "x = [2,8,10,'world',20]\n",
    "y = x\n",
    "print(x,y)\n",
    "y[0] = 6\n",
    "print(y,x) # here y and x both change"
   ]
  },
  {
   "cell_type": "code",
   "execution_count": 115,
   "id": "769c332d",
   "metadata": {},
   "outputs": [
    {
     "name": "stdout",
     "output_type": "stream",
     "text": [
      "[2, 8, 10, 'world', 20] [2, 8, 10, 'world', 20]\n",
      "[6, 8, 10, 'world', 20] [2, 8, 10, 'world', 20]\n"
     ]
    }
   ],
   "source": [
    "x = [2,8,10,'world',20]\n",
    "y = copy(x)\n",
    "print(x,y)\n",
    "y[0] = 6\n",
    "print(y,x) # here there is no change in x at x[0]"
   ]
  },
  {
   "cell_type": "markdown",
   "id": "b359bedf",
   "metadata": {},
   "source": [
    "### 11. Write a Python program to Count occurrences of an element in a list?"
   ]
  },
  {
   "cell_type": "code",
   "execution_count": 105,
   "id": "2c8fbedb",
   "metadata": {},
   "outputs": [],
   "source": [
    "def count(x,element):\n",
    "    count = 0\n",
    "    for i in x:\n",
    "        if i == element:\n",
    "            count = count + 1\n",
    "        else:\n",
    "            pass\n",
    "    return count"
   ]
  },
  {
   "cell_type": "code",
   "execution_count": 106,
   "id": "c816395e",
   "metadata": {},
   "outputs": [
    {
     "data": {
      "text/plain": [
       "3"
      ]
     },
     "execution_count": 106,
     "metadata": {},
     "output_type": "execute_result"
    }
   ],
   "source": [
    "count([2,3,4,'hello',2,2],2)"
   ]
  },
  {
   "cell_type": "code",
   "execution_count": 107,
   "id": "b0e2af7c",
   "metadata": {},
   "outputs": [
    {
     "data": {
      "text/plain": [
       "1"
      ]
     },
     "execution_count": 107,
     "metadata": {},
     "output_type": "execute_result"
    }
   ],
   "source": [
    "count([2,3,4,'hello',2,2],4)"
   ]
  }
 ],
 "metadata": {
  "kernelspec": {
   "display_name": "Python 3 (ipykernel)",
   "language": "python",
   "name": "python3"
  },
  "language_info": {
   "codemirror_mode": {
    "name": "ipython",
    "version": 3
   },
   "file_extension": ".py",
   "mimetype": "text/x-python",
   "name": "python",
   "nbconvert_exporter": "python",
   "pygments_lexer": "ipython3",
   "version": "3.9.13"
  }
 },
 "nbformat": 4,
 "nbformat_minor": 5
}
