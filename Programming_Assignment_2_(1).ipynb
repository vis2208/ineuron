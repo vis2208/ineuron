{
 "cells": [
  {
   "cell_type": "markdown",
   "id": "08c66ea5",
   "metadata": {
    "id": "08c66ea5"
   },
   "source": [
    "## Programming Assignment_2\n",
    "-------------"
   ]
  },
  {
   "cell_type": "markdown",
   "id": "399ecb22",
   "metadata": {
    "id": "4e50cf42"
   },
   "source": [
    "### 1. Write a Python program to convert kilometers to miles?\n"
   ]
  },
  {
   "cell_type": "code",
   "execution_count": 2,
   "id": "a108fabf",
   "metadata": {},
   "outputs": [],
   "source": [
    "def convert(kilometers):\n",
    "    print('miles:',0.6213*kilometers)"
   ]
  },
  {
   "cell_type": "code",
   "execution_count": 4,
   "id": "977da8e8",
   "metadata": {},
   "outputs": [
    {
     "name": "stdout",
     "output_type": "stream",
     "text": [
      "miles: 3.1064999999999996\n"
     ]
    }
   ],
   "source": [
    "convert(kilometers=5)"
   ]
  },
  {
   "cell_type": "markdown",
   "id": "0df4e6bf",
   "metadata": {
    "id": "0df4e6bf"
   },
   "source": [
    "### 2.Write a Python program to convert Celsius to Fahrenheit?"
   ]
  },
  {
   "cell_type": "code",
   "execution_count": 13,
   "id": "f38552d4",
   "metadata": {},
   "outputs": [],
   "source": [
    "def Celsius_to_Fahrenheit(celsius):\n",
    "    print(\"Fahrenheit=\",(celsius*9/5)+32, 'F')"
   ]
  },
  {
   "cell_type": "code",
   "execution_count": 14,
   "id": "e9e23842",
   "metadata": {},
   "outputs": [
    {
     "name": "stdout",
     "output_type": "stream",
     "text": [
      "Fahrenheit= 32.0 Fahrenheit\n"
     ]
    }
   ],
   "source": [
    "Celsius_to_Fahrenheit(celsius = 0)"
   ]
  },
  {
   "cell_type": "markdown",
   "id": "46129b8e",
   "metadata": {
    "id": "46129b8e"
   },
   "source": [
    "### 3. Write a Python program to display calendar?\n"
   ]
  },
  {
   "cell_type": "code",
   "execution_count": 16,
   "id": "0cf40506",
   "metadata": {},
   "outputs": [],
   "source": [
    "import calendar"
   ]
  },
  {
   "cell_type": "code",
   "execution_count": 25,
   "id": "2a2e69da",
   "metadata": {},
   "outputs": [
    {
     "data": {
      "text/plain": [
       "[[0, 0, 1, 2, 3, 4, 5],\n",
       " [6, 7, 8, 9, 10, 11, 12],\n",
       " [13, 14, 15, 16, 17, 18, 19],\n",
       " [20, 21, 22, 23, 24, 25, 26],\n",
       " [27, 28, 0, 0, 0, 0, 0]]"
      ]
     },
     "execution_count": 25,
     "metadata": {},
     "output_type": "execute_result"
    }
   ],
   "source": [
    "calendar.monthcalendar(2023,2)"
   ]
  },
  {
   "cell_type": "markdown",
   "id": "db2bf0f7",
   "metadata": {
    "id": "db2bf0f7"
   },
   "source": [
    "### 4. Write a Python program to solve quadratic equation?"
   ]
  },
  {
   "cell_type": "code",
   "execution_count": 45,
   "id": "b4bcf5c5",
   "metadata": {},
   "outputs": [],
   "source": [
    "import math\n",
    "def solution(a,b,c):\n",
    "    D = b**2 - 4*a*c\n",
    "    if a == 0:\n",
    "        x = -c/b\n",
    "        print('solution:',x)\n",
    "    else:\n",
    "        if D == 0 :\n",
    "            print('solution(x1,x2):',-b/(2*a))\n",
    "        else:\n",
    "            if D>0:\n",
    "                print('solution(x1,x2):',(-b + math.sqrt(D))/2,',',(-b - math.sqrt(D))/2)\n",
    "            else:\n",
    "                print('solution:','roots are imaginary')"
   ]
  },
  {
   "cell_type": "markdown",
   "id": "52f51ef2",
   "metadata": {},
   "source": [
    "y1 = 0x^2 + x + 2\\\n",
    "y2 = 2x^2 + 4x + 2\\\n",
    "y3 = 5x^2 + 100x + 2\\\n",
    "y3 = 5x^2 + 1x + 2"
   ]
  },
  {
   "cell_type": "code",
   "execution_count": 46,
   "id": "94ca3c32",
   "metadata": {},
   "outputs": [
    {
     "name": "stdout",
     "output_type": "stream",
     "text": [
      "solution: -2.0\n"
     ]
    }
   ],
   "source": [
    "y1 = solution(a = 0, b = 1,c = 2)"
   ]
  },
  {
   "cell_type": "code",
   "execution_count": 47,
   "id": "4adc1a85",
   "metadata": {},
   "outputs": [
    {
     "name": "stdout",
     "output_type": "stream",
     "text": [
      "solution(x1,x2): -1.0\n"
     ]
    }
   ],
   "source": [
    "y2 = solution(a = 2, b = 4,c = 2)"
   ]
  },
  {
   "cell_type": "code",
   "execution_count": 48,
   "id": "213aa826",
   "metadata": {},
   "outputs": [
    {
     "name": "stdout",
     "output_type": "stream",
     "text": [
      "solution(x1,x2): -0.10010020050140156 , -99.8998997994986\n"
     ]
    }
   ],
   "source": [
    "y3 = solution(a = 5, b = 100,c = 2)"
   ]
  },
  {
   "cell_type": "code",
   "execution_count": 49,
   "id": "eeb4284e",
   "metadata": {},
   "outputs": [
    {
     "name": "stdout",
     "output_type": "stream",
     "text": [
      "solution: roots are imaginary\n"
     ]
    }
   ],
   "source": [
    "y4 = solution(a = 5, b = 1,c = 2)"
   ]
  },
  {
   "cell_type": "markdown",
   "id": "f70f74c9",
   "metadata": {
    "id": "f70f74c9"
   },
   "source": [
    "### 5. Write a Python program to swap two variables without temp variable?"
   ]
  },
  {
   "cell_type": "code",
   "execution_count": null,
   "id": "46ed5519",
   "metadata": {},
   "outputs": [],
   "source": [
    "def swap(a,b):\n",
    "    temp"
   ]
  }
 ],
 "metadata": {
  "colab": {
   "provenance": []
  },
  "kernelspec": {
   "display_name": "Python 3 (ipykernel)",
   "language": "python",
   "name": "python3"
  },
  "language_info": {
   "codemirror_mode": {
    "name": "ipython",
    "version": 3
   },
   "file_extension": ".py",
   "mimetype": "text/x-python",
   "name": "python",
   "nbconvert_exporter": "python",
   "pygments_lexer": "ipython3",
   "version": "3.9.13"
  }
 },
 "nbformat": 4,
 "nbformat_minor": 5
}
