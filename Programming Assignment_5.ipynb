{
 "cells": [
  {
   "cell_type": "markdown",
   "id": "4ac9602a",
   "metadata": {},
   "source": [
    "## Python Basic Programming Assignment - 5\n",
    "--------------\n"
   ]
  },
  {
   "cell_type": "markdown",
   "id": "fdaeee06",
   "metadata": {},
   "source": [
    "### 1. Write a Python Program to Find LCM?"
   ]
  },
  {
   "cell_type": "code",
   "execution_count": 48,
   "id": "e597954f",
   "metadata": {},
   "outputs": [],
   "source": [
    "def LCM(x1,x2):\n",
    "    LCM_list = []\n",
    "    maximum = max(x1,x2)\n",
    "    list_x1 = [x1*i for i in range(1,maximum+1)]\n",
    "    list_x2 = [x2*i for i in range(1,maximum+1)]\n",
    "    for p in list_x1:\n",
    "        for q in list_x2:\n",
    "            if p == q:\n",
    "                LCM_list.append(p)\n",
    "    print('LCM=',min(LCM_list))               "
   ]
  },
  {
   "cell_type": "code",
   "execution_count": 49,
   "id": "16caa6e2",
   "metadata": {},
   "outputs": [
    {
     "name": "stdout",
     "output_type": "stream",
     "text": [
      "LCM= 24\n"
     ]
    }
   ],
   "source": [
    "LCM(3,8)"
   ]
  },
  {
   "cell_type": "code",
   "execution_count": 50,
   "id": "751369a8",
   "metadata": {},
   "outputs": [
    {
     "name": "stdout",
     "output_type": "stream",
     "text": [
      "LCM= 10\n"
     ]
    }
   ],
   "source": [
    "LCM(2,10)"
   ]
  },
  {
   "cell_type": "markdown",
   "id": "2f459cdf",
   "metadata": {},
   "source": [
    "### 2. Write a Python Program to Find HCF?"
   ]
  },
  {
   "cell_type": "code",
   "execution_count": 60,
   "id": "ce641639",
   "metadata": {},
   "outputs": [],
   "source": [
    "def HCF(x1,x2):\n",
    "    HCF_list = []\n",
    "    maximum = max(x1,x2)\n",
    "    list_x1 = [i for i in range(1,maximum+1) if x1%i ==0]\n",
    "    list_x2 = [i for i in range(1,maximum+1) if x2%i ==0]\n",
    "    for p in list_x1:\n",
    "        for q in list_x2:\n",
    "            if p == q:\n",
    "                HCF_list.append(p)\n",
    "    print('HCF=',max(HCF_list))"
   ]
  },
  {
   "cell_type": "code",
   "execution_count": 61,
   "id": "1101b0d0",
   "metadata": {},
   "outputs": [
    {
     "name": "stdout",
     "output_type": "stream",
     "text": [
      "HCF= 2\n"
     ]
    }
   ],
   "source": [
    "HCF(2,8)"
   ]
  },
  {
   "cell_type": "code",
   "execution_count": 62,
   "id": "3c48b2f3",
   "metadata": {},
   "outputs": [
    {
     "name": "stdout",
     "output_type": "stream",
     "text": [
      "HCF= 1\n"
     ]
    }
   ],
   "source": [
    "HCF(3,8)"
   ]
  },
  {
   "cell_type": "code",
   "execution_count": 63,
   "id": "2a8c1796",
   "metadata": {},
   "outputs": [
    {
     "name": "stdout",
     "output_type": "stream",
     "text": [
      "HCF= 10\n"
     ]
    }
   ],
   "source": [
    "HCF(10,20)"
   ]
  },
  {
   "cell_type": "markdown",
   "id": "d2c29370",
   "metadata": {},
   "source": [
    "### 3. Write a Python Program to Convert Decimal to Binary, Octal and Hexadecimal?"
   ]
  },
  {
   "cell_type": "code",
   "execution_count": 94,
   "id": "6909def7",
   "metadata": {},
   "outputs": [],
   "source": [
    "# Decimal to Binary\n",
    "def d2b(x):\n",
    "    div = x\n",
    "    lists = []\n",
    "    while div != 0:\n",
    "        rem = div % 2\n",
    "        lists.append(rem)\n",
    "        div = div//2\n",
    "    for i in lists[::-1]:\n",
    "        print(i,end=\"\")"
   ]
  },
  {
   "cell_type": "code",
   "execution_count": 95,
   "id": "a7ddcf3f",
   "metadata": {},
   "outputs": [
    {
     "name": "stdout",
     "output_type": "stream",
     "text": [
      "1000100"
     ]
    }
   ],
   "source": [
    "d2b(68)"
   ]
  },
  {
   "cell_type": "code",
   "execution_count": 96,
   "id": "ee3415a9",
   "metadata": {},
   "outputs": [],
   "source": [
    "# Decimal to Octal\n",
    "def d2o(x):\n",
    "    div = x\n",
    "    lists = []\n",
    "    while div != 0:\n",
    "        rem = div % 8\n",
    "        lists.append(rem)\n",
    "        div = div//8\n",
    "    for i in lists[::-1]:\n",
    "        print(i,end=\"\")"
   ]
  },
  {
   "cell_type": "code",
   "execution_count": 97,
   "id": "b20fd99f",
   "metadata": {},
   "outputs": [
    {
     "name": "stdout",
     "output_type": "stream",
     "text": [
      "261"
     ]
    }
   ],
   "source": [
    "d2o(177)"
   ]
  },
  {
   "cell_type": "code",
   "execution_count": 110,
   "id": "65f1c3b5",
   "metadata": {},
   "outputs": [],
   "source": [
    "# Decimal to Hexadecimal\n",
    "def d2h(x):\n",
    "    div = x\n",
    "    lists = []\n",
    "    while div != 0:\n",
    "        rem = div % 16\n",
    "        if rem == 10:\n",
    "            lists.append('A')\n",
    "        elif rem == 11:\n",
    "            lists.append('B')\n",
    "        elif rem == 12:\n",
    "            lists.append('C')\n",
    "        elif rem == 13:\n",
    "            lists.append('D')\n",
    "        elif rem == 14:\n",
    "            lists.append('E')\n",
    "        elif rem == 15:\n",
    "            lists.append('F')\n",
    "        else:\n",
    "            lists.append(rem)\n",
    "        x = div\n",
    "        div = x//16\n",
    "    for i in lists[::-1]:\n",
    "        print(i,end=\"\")"
   ]
  },
  {
   "cell_type": "code",
   "execution_count": 111,
   "id": "b6438886",
   "metadata": {},
   "outputs": [
    {
     "name": "stdout",
     "output_type": "stream",
     "text": [
      "12A0"
     ]
    }
   ],
   "source": [
    "d2h(4768)"
   ]
  },
  {
   "cell_type": "markdown",
   "id": "3f3d6174",
   "metadata": {},
   "source": [
    "### 4. Write a Python Program To Find ASCII value of a character?"
   ]
  },
  {
   "cell_type": "code",
   "execution_count": 235,
   "id": "5baeb6cf",
   "metadata": {},
   "outputs": [],
   "source": [
    "def ASCII(x):\n",
    "    key1 = list('abcdefghijklmnopqrstuvwxyz')\n",
    "    key2 = list('abcdefghijklmnopqrstuvwxyz'.upper())\n",
    "    value1 = [('0' + str(i)) if len(str(i)) == 2 else str(i) for i in range(97,123)]\n",
    "    value2 = [str('0'+ str(i)) for i in range(65,91)]\n",
    "    dic1 = {key1[i]:value1[i] for i in range(len(key1))}\n",
    "    dic2 = {key2[i]:value2[i] for i in range(len(key2))}\n",
    "    print(dic1,dic2)\n",
    "    #if x.islower() == True:\n",
    "        #if len(str(dic1[x])) == 2:\n",
    "           # print('0'+ str(dic1[x]))\n",
    "      #  else:\n",
    "         #   print(dic1[x])\n",
    "   # else:\n",
    "         #if len(str(dic2[x])) == 2:\n",
    "           # print('0'+ str(dic2[x]))\n",
    "       # else:\n",
    "           # print(dic2[x])\n",
    "    "
   ]
  },
  {
   "cell_type": "code",
   "execution_count": 236,
   "id": "b41409f2",
   "metadata": {},
   "outputs": [
    {
     "name": "stdout",
     "output_type": "stream",
     "text": [
      "{'a': '097', 'b': '098', 'c': '099', 'd': '100', 'e': '101', 'f': '102', 'g': '103', 'h': '104', 'i': '105', 'j': '106', 'k': '107', 'l': '108', 'm': '109', 'n': '110', 'o': '111', 'p': '112', 'q': '113', 'r': '114', 's': '115', 't': '116', 'u': '117', 'v': '118', 'w': '119', 'x': '120', 'y': '121', 'z': '122'} {'A': '065', 'B': '066', 'C': '067', 'D': '068', 'E': '069', 'F': '070', 'G': '071', 'H': '072', 'I': '073', 'J': '074', 'K': '075', 'L': '076', 'M': '077', 'N': '078', 'O': '079', 'P': '080', 'Q': '081', 'R': '082', 'S': '083', 'T': '084', 'U': '085', 'V': '086', 'W': '087', 'X': '088', 'Y': '089', 'Z': '090'}\n"
     ]
    }
   ],
   "source": [
    "ASCII('a')"
   ]
  },
  {
   "cell_type": "code",
   "execution_count": 220,
   "id": "e5690815",
   "metadata": {},
   "outputs": [
    {
     "name": "stdout",
     "output_type": "stream",
     "text": [
      "65\n"
     ]
    }
   ],
   "source": [
    "ASCII('A')"
   ]
  },
  {
   "cell_type": "code",
   "execution_count": 208,
   "id": "934a3cfe",
   "metadata": {},
   "outputs": [
    {
     "data": {
      "text/plain": [
       "'0xx'"
      ]
     },
     "execution_count": 208,
     "metadata": {},
     "output_type": "execute_result"
    }
   ],
   "source": [
    "'0'+ ('xx')"
   ]
  },
  {
   "cell_type": "code",
   "execution_count": 228,
   "id": "77a06e26",
   "metadata": {},
   "outputs": [
    {
     "data": {
      "text/plain": [
       "2"
      ]
     },
     "execution_count": 228,
     "metadata": {},
     "output_type": "execute_result"
    }
   ],
   "source": [
    "len(str(12))"
   ]
  },
  {
   "cell_type": "markdown",
   "id": "226778a0",
   "metadata": {},
   "source": [
    "### 5. Write a Python Program to Make a Simple Calculator with 4 basic mathematical operations?"
   ]
  },
  {
   "cell_type": "code",
   "execution_count": 109,
   "id": "8a70692b",
   "metadata": {},
   "outputs": [],
   "source": [
    "def operation(a,b,c):\n",
    "    if c == 'add':\n",
    "        print('addition=',a+b)\n",
    "    elif c == 'subtract':\n",
    "        print('subtraction=',a-b)\n",
    "    elif c == 'multiply':\n",
    "        print('multiplication=',a*b)\n",
    "    elif c == 'divide':\n",
    "        print('division=',a/b)\n",
    "    "
   ]
  },
  {
   "cell_type": "code",
   "execution_count": 110,
   "id": "fbc2813c",
   "metadata": {},
   "outputs": [
    {
     "name": "stdout",
     "output_type": "stream",
     "text": [
      "addition= 19\n"
     ]
    }
   ],
   "source": [
    "operation(16,3,'add')"
   ]
  },
  {
   "cell_type": "code",
   "execution_count": 111,
   "id": "9213bcfe",
   "metadata": {},
   "outputs": [
    {
     "name": "stdout",
     "output_type": "stream",
     "text": [
      "multiplication= 48\n"
     ]
    }
   ],
   "source": [
    "operation(16,3,'multiply')"
   ]
  },
  {
   "cell_type": "code",
   "execution_count": null,
   "id": "2bac1c1e",
   "metadata": {},
   "outputs": [],
   "source": []
  }
 ],
 "metadata": {
  "kernelspec": {
   "display_name": "Python 3 (ipykernel)",
   "language": "python",
   "name": "python3"
  },
  "language_info": {
   "codemirror_mode": {
    "name": "ipython",
    "version": 3
   },
   "file_extension": ".py",
   "mimetype": "text/x-python",
   "name": "python",
   "nbconvert_exporter": "python",
   "pygments_lexer": "ipython3",
   "version": "3.9.13"
  }
 },
 "nbformat": 4,
 "nbformat_minor": 5
}
