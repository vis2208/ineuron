{
 "cells": [
  {
   "cell_type": "markdown",
   "id": "9b304197",
   "metadata": {},
   "source": [
    "# Python Basic Programming Assignment 8"
   ]
  },
  {
   "cell_type": "markdown",
   "id": "22789ae6",
   "metadata": {},
   "source": [
    "### 1. Write a Python Program to Add Two Matrices?"
   ]
  },
  {
   "cell_type": "code",
   "execution_count": 2,
   "id": "f50c30b9",
   "metadata": {},
   "outputs": [],
   "source": [
    "def add(x1,x2):            # method - 1\n",
    "    import numpy as np\n",
    "    x1 = np.array(x1)\n",
    "    x2 = np.array(x2)\n",
    "    return x1 + x2"
   ]
  },
  {
   "cell_type": "code",
   "execution_count": 4,
   "id": "829ca32e",
   "metadata": {},
   "outputs": [
    {
     "data": {
      "text/plain": [
       "array([[ 2,  4,  6],\n",
       "       [ 8, 10, 12]])"
      ]
     },
     "execution_count": 4,
     "metadata": {},
     "output_type": "execute_result"
    }
   ],
   "source": [
    "add([[1,2,3],[4,5,6]],[[1,2,3],[4,5,6]])"
   ]
  },
  {
   "cell_type": "code",
   "execution_count": 17,
   "id": "925f12c8",
   "metadata": {},
   "outputs": [],
   "source": [
    "def add(x1,x2):            # method - 2\n",
    "    import numpy as np\n",
    "    x1 = np.array(x1)\n",
    "    x2 = np.array(x2)\n",
    "    shape1 = np.shape(x1)\n",
    "    shape2 = np.shape(x2)\n",
    "    x3 = np.zeros(shape = shape1)\n",
    "    if x1.ndim >= 2:\n",
    "        for i in range(shape1[0]):\n",
    "            for j in range(shape1[1]):\n",
    "                x3[i,j] = x1[i,j] + x2[i,j]\n",
    "        return x3\n",
    "    else:\n",
    "        for i in range(len(x1)):\n",
    "                x3[i] = x1[i] + x2[i]\n",
    "        return x3"
   ]
  },
  {
   "cell_type": "code",
   "execution_count": 18,
   "id": "cb50127f",
   "metadata": {},
   "outputs": [
    {
     "data": {
      "text/plain": [
       "array([2., 4., 6.])"
      ]
     },
     "execution_count": 18,
     "metadata": {},
     "output_type": "execute_result"
    }
   ],
   "source": [
    "add([1,2,3],[1,2,3])"
   ]
  },
  {
   "cell_type": "code",
   "execution_count": 20,
   "id": "56b4a08c",
   "metadata": {},
   "outputs": [
    {
     "data": {
      "text/plain": [
       "array([[ 2.,  4.,  6.],\n",
       "       [ 8., 10., 12.]])"
      ]
     },
     "execution_count": 20,
     "metadata": {},
     "output_type": "execute_result"
    }
   ],
   "source": [
    "add([[1,2,3],[4,5,6]],[[1,2,3],[4,5,6]])"
   ]
  },
  {
   "cell_type": "markdown",
   "id": "044ceda6",
   "metadata": {},
   "source": [
    "### 2. Write a Python Program to Multiply Two Matrices?"
   ]
  },
  {
   "cell_type": "code",
   "execution_count": 21,
   "id": "2187887e",
   "metadata": {},
   "outputs": [],
   "source": [
    "def multiplication(x1,x2):            # method - 1\n",
    "    import numpy as np\n",
    "    x1 = np.array(x1)\n",
    "    x2 = np.array(x2)\n",
    "    return x1 * x2"
   ]
  },
  {
   "cell_type": "code",
   "execution_count": 22,
   "id": "1ff71b12",
   "metadata": {},
   "outputs": [
    {
     "data": {
      "text/plain": [
       "array([[ 1,  4,  9],\n",
       "       [16, 25, 36]])"
      ]
     },
     "execution_count": 22,
     "metadata": {},
     "output_type": "execute_result"
    }
   ],
   "source": [
    "multiplication([[1,2,3],[4,5,6]],[[1,2,3],[4,5,6]])"
   ]
  },
  {
   "cell_type": "code",
   "execution_count": 23,
   "id": "c4ba5924",
   "metadata": {},
   "outputs": [],
   "source": [
    "def multiplication(x1,x2):            # method - 2\n",
    "    import numpy as np\n",
    "    x1 = np.array(x1)\n",
    "    x2 = np.array(x2)\n",
    "    shape1 = np.shape(x1)\n",
    "    shape2 = np.shape(x2)\n",
    "    x3 = np.zeros(shape = shape1)\n",
    "    if x1.ndim >= 2:\n",
    "        for i in range(shape1[0]):\n",
    "            for j in range(shape1[1]):\n",
    "                x3[i,j] = x1[i,j] * x2[i,j]\n",
    "        return x3\n",
    "    else:\n",
    "        for i in range(len(x1)):\n",
    "                x3[i] = x1[i] * x2[i]\n",
    "        return x3"
   ]
  },
  {
   "cell_type": "code",
   "execution_count": 24,
   "id": "001fd80e",
   "metadata": {},
   "outputs": [
    {
     "data": {
      "text/plain": [
       "array([1., 4., 9.])"
      ]
     },
     "execution_count": 24,
     "metadata": {},
     "output_type": "execute_result"
    }
   ],
   "source": [
    "multiplication([1,2,3],[1,2,3])"
   ]
  },
  {
   "cell_type": "code",
   "execution_count": 25,
   "id": "25d2df7c",
   "metadata": {},
   "outputs": [
    {
     "data": {
      "text/plain": [
       "array([[ 1.,  4.,  9.],\n",
       "       [16., 25., 36.]])"
      ]
     },
     "execution_count": 25,
     "metadata": {},
     "output_type": "execute_result"
    }
   ],
   "source": [
    "multiplication([[1,2,3],[4,5,6]],[[1,2,3],[4,5,6]])"
   ]
  },
  {
   "cell_type": "markdown",
   "id": "5f688e46",
   "metadata": {},
   "source": [
    "### 3. Write a Python Program to Transpose a Matrix?"
   ]
  },
  {
   "cell_type": "code",
   "execution_count": 26,
   "id": "452ac3c5",
   "metadata": {},
   "outputs": [],
   "source": [
    "def transpose(x):            # method - 1\n",
    "    import numpy as np\n",
    "    x = np.array(x)\n",
    "    return np.transpose(x)"
   ]
  },
  {
   "cell_type": "code",
   "execution_count": 29,
   "id": "205f65a6",
   "metadata": {},
   "outputs": [
    {
     "data": {
      "text/plain": [
       "array([1, 2, 3])"
      ]
     },
     "execution_count": 29,
     "metadata": {},
     "output_type": "execute_result"
    }
   ],
   "source": [
    "transpose([1,2,3])"
   ]
  },
  {
   "cell_type": "code",
   "execution_count": 28,
   "id": "c1c7b19d",
   "metadata": {},
   "outputs": [
    {
     "data": {
      "text/plain": [
       "array([[1, 4],\n",
       "       [2, 5],\n",
       "       [3, 6]])"
      ]
     },
     "execution_count": 28,
     "metadata": {},
     "output_type": "execute_result"
    }
   ],
   "source": [
    "transpose([[1,2,3],[4,5,6]])"
   ]
  },
  {
   "cell_type": "code",
   "execution_count": 60,
   "id": "9f7d70f5",
   "metadata": {},
   "outputs": [],
   "source": [
    "def transpose(x):            # method - 2\n",
    "    import numpy as np\n",
    "    x = np.array(x)\n",
    "    shape = np.shape(x)\n",
    "    \n",
    "    if x.ndim >= 2:\n",
    "        x3 = np.zeros(shape = (shape[1],shape[0]))\n",
    "        for i in range(shape[0]):\n",
    "            for j in range(shape[1]):\n",
    "                x3[j,i] = x[i,j]\n",
    "        return x3\n",
    "    else:\n",
    "        x3 = np.zeros(shape = (len(x),1))\n",
    "        for i in range(len(x)):\n",
    "                x3[i,0] = x[i]\n",
    "        return x3"
   ]
  },
  {
   "cell_type": "code",
   "execution_count": 61,
   "id": "4bf563fb",
   "metadata": {},
   "outputs": [
    {
     "data": {
      "text/plain": [
       "array([[1.],\n",
       "       [2.],\n",
       "       [3.]])"
      ]
     },
     "execution_count": 61,
     "metadata": {},
     "output_type": "execute_result"
    }
   ],
   "source": [
    "transpose([1,2,3])"
   ]
  },
  {
   "cell_type": "code",
   "execution_count": 62,
   "id": "a27ec3c3",
   "metadata": {},
   "outputs": [
    {
     "data": {
      "text/plain": [
       "array([[1., 4.],\n",
       "       [2., 5.],\n",
       "       [3., 6.]])"
      ]
     },
     "execution_count": 62,
     "metadata": {},
     "output_type": "execute_result"
    }
   ],
   "source": [
    "transpose([[1,2,3],[4,5,6]])"
   ]
  },
  {
   "cell_type": "markdown",
   "id": "b2849025",
   "metadata": {},
   "source": [
    "\n",
    "### 4. Write a Python Program to Sort Words in Alphabetic Order?\n"
   ]
  },
  {
   "cell_type": "code",
   "execution_count": 91,
   "id": "6166163d",
   "metadata": {},
   "outputs": [],
   "source": [
    "import numpy as np  # method - 1\n",
    "def sort(x):\n",
    "    x = np.array(x)\n",
    "    return np.sort(x)\n"
   ]
  },
  {
   "cell_type": "code",
   "execution_count": 93,
   "id": "f362ccd5",
   "metadata": {},
   "outputs": [
    {
     "data": {
      "text/plain": [
       "array(['Apple', 'Ball', 'apple', 'cat'], dtype='<U5')"
      ]
     },
     "execution_count": 93,
     "metadata": {},
     "output_type": "execute_result"
    }
   ],
   "source": [
    "y = sort(['apple','cat','Ball','Apple'])\n",
    "y"
   ]
  },
  {
   "cell_type": "markdown",
   "id": "48ac7b24",
   "metadata": {},
   "source": [
    "### 5. Write a Python Program to Remove Punctuation From a String?"
   ]
  },
  {
   "cell_type": "code",
   "execution_count": 165,
   "id": "045449f0",
   "metadata": {},
   "outputs": [],
   "source": [
    "def remove_punctuation(x):\n",
    "    y = ''\n",
    "    for i in range(len(x)):\n",
    "        if x[i].isalpha():\n",
    "            #print(x[i])\n",
    "            y = y + x[i]\n",
    "    return y\n",
    "    \n",
    "            "
   ]
  },
  {
   "cell_type": "code",
   "execution_count": 166,
   "id": "34ba9945",
   "metadata": {},
   "outputs": [
    {
     "data": {
      "text/plain": [
       "'hello'"
      ]
     },
     "execution_count": 166,
     "metadata": {},
     "output_type": "execute_result"
    }
   ],
   "source": [
    "remove_punctuation('he_llo')"
   ]
  },
  {
   "cell_type": "code",
   "execution_count": 167,
   "id": "7336e485",
   "metadata": {},
   "outputs": [
    {
     "data": {
      "text/plain": [
       "'world'"
      ]
     },
     "execution_count": 167,
     "metadata": {},
     "output_type": "execute_result"
    }
   ],
   "source": [
    "remove_punctuation('world!!')"
   ]
  },
  {
   "cell_type": "code",
   "execution_count": null,
   "id": "b4613cf4",
   "metadata": {},
   "outputs": [],
   "source": []
  }
 ],
 "metadata": {
  "kernelspec": {
   "display_name": "Python 3 (ipykernel)",
   "language": "python",
   "name": "python3"
  },
  "language_info": {
   "codemirror_mode": {
    "name": "ipython",
    "version": 3
   },
   "file_extension": ".py",
   "mimetype": "text/x-python",
   "name": "python",
   "nbconvert_exporter": "python",
   "pygments_lexer": "ipython3",
   "version": "3.9.13"
  }
 },
 "nbformat": 4,
 "nbformat_minor": 5
}
