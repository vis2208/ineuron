{
 "cells": [
  {
   "cell_type": "markdown",
   "id": "35297a20",
   "metadata": {},
   "source": [
    "## Programming Basic Assignment 7"
   ]
  },
  {
   "cell_type": "markdown",
   "id": "27349114",
   "metadata": {},
   "source": [
    "### 1. Write a Python Program to find sum of array?"
   ]
  },
  {
   "cell_type": "code",
   "execution_count": 48,
   "id": "622ad0d4",
   "metadata": {},
   "outputs": [],
   "source": [
    "def summation(x):          # method - 1\n",
    "    import numpy as np\n",
    "    x = np.array(x)\n",
    "    return x.sum()"
   ]
  },
  {
   "cell_type": "code",
   "execution_count": 49,
   "id": "05230d16",
   "metadata": {},
   "outputs": [
    {
     "data": {
      "text/plain": [
       "30"
      ]
     },
     "execution_count": 49,
     "metadata": {},
     "output_type": "execute_result"
    }
   ],
   "source": [
    "summation([[1,2,3],[7,8,9]])"
   ]
  },
  {
   "cell_type": "code",
   "execution_count": 205,
   "id": "9ed46d78",
   "metadata": {},
   "outputs": [],
   "source": [
    "def summation2(x):         # method - 2\n",
    "    import numpy as np\n",
    "    x = np.array(x)\n",
    "    total = 0\n",
    "    if x.ndim >=2:\n",
    "        for i in range(x.shape[0]):\n",
    "            for j in range(x.shape[1]):\n",
    "                total = total + x[i][j]\n",
    "        return total\n",
    "    else:\n",
    "        for i in range(len(x)):\n",
    "            total = total + x[i]\n",
    "        return total"
   ]
  },
  {
   "cell_type": "code",
   "execution_count": 206,
   "id": "cc492a92",
   "metadata": {},
   "outputs": [
    {
     "data": {
      "text/plain": [
       "30"
      ]
     },
     "execution_count": 206,
     "metadata": {},
     "output_type": "execute_result"
    }
   ],
   "source": [
    "summation2([[1,2,3],[7,8,9]])"
   ]
  },
  {
   "cell_type": "code",
   "execution_count": 207,
   "id": "66bbb9e7",
   "metadata": {},
   "outputs": [
    {
     "data": {
      "text/plain": [
       "6"
      ]
     },
     "execution_count": 207,
     "metadata": {},
     "output_type": "execute_result"
    }
   ],
   "source": [
    "summation2([1,2,3])"
   ]
  },
  {
   "cell_type": "markdown",
   "id": "171a980d",
   "metadata": {},
   "source": [
    "### 2. Write a Python Program to find largest element in an array?\n"
   ]
  },
  {
   "cell_type": "code",
   "execution_count": 122,
   "id": "71f023f6",
   "metadata": {},
   "outputs": [],
   "source": [
    "def maximum(x):      # method - 1\n",
    "    import numpy as np\n",
    "    x = np.array(x)\n",
    "    return x.max()"
   ]
  },
  {
   "cell_type": "code",
   "execution_count": 123,
   "id": "d1e7ac72",
   "metadata": {},
   "outputs": [
    {
     "data": {
      "text/plain": [
       "9"
      ]
     },
     "execution_count": 123,
     "metadata": {},
     "output_type": "execute_result"
    }
   ],
   "source": [
    " maximum([[1,2,3],[7,8,9]])"
   ]
  },
  {
   "cell_type": "code",
   "execution_count": 208,
   "id": "ab903ec3",
   "metadata": {},
   "outputs": [],
   "source": [
    "def maximum2(x):      # method - 2\n",
    "    import numpy as np\n",
    "    x = np.array(x)\n",
    "\n",
    "    if x.ndim >= 2:\n",
    "        a = x[0][0]\n",
    "        for i in range(0,x.shape[0]):\n",
    "            for j in range(0,x.shape[1]):\n",
    "                if x[i][j] > a:\n",
    "                    a = x[i][j]\n",
    "                else:\n",
    "                    a = a\n",
    "        return a\n",
    "    else:\n",
    "        a = x[0]\n",
    "        for i in range(0,len(x)):\n",
    "            if x[i] > a:\n",
    "                a = x[i]\n",
    "            else:\n",
    "                a = a\n",
    "        return a\n"
   ]
  },
  {
   "cell_type": "code",
   "execution_count": 209,
   "id": "ed64e3ef",
   "metadata": {},
   "outputs": [
    {
     "data": {
      "text/plain": [
       "10"
      ]
     },
     "execution_count": 209,
     "metadata": {},
     "output_type": "execute_result"
    }
   ],
   "source": [
    "maximum3([[1,2,10],[4,5,1]])"
   ]
  },
  {
   "cell_type": "code",
   "execution_count": 210,
   "id": "998b6cd8",
   "metadata": {},
   "outputs": [
    {
     "data": {
      "text/plain": [
       "50"
      ]
     },
     "execution_count": 210,
     "metadata": {},
     "output_type": "execute_result"
    }
   ],
   "source": [
    "maximum3([[1,2,10],[4,50,1]])"
   ]
  },
  {
   "cell_type": "code",
   "execution_count": 211,
   "id": "1bc5d4c8",
   "metadata": {},
   "outputs": [
    {
     "data": {
      "text/plain": [
       "10"
      ]
     },
     "execution_count": 211,
     "metadata": {},
     "output_type": "execute_result"
    }
   ],
   "source": [
    "maximum3([1,2,10,4,5,1,2])"
   ]
  },
  {
   "cell_type": "markdown",
   "id": "21613246",
   "metadata": {},
   "source": [
    "### 3. Write a Python Program for array rotation?"
   ]
  },
  {
   "cell_type": "code",
   "execution_count": 73,
   "id": "413e0267",
   "metadata": {},
   "outputs": [],
   "source": [
    "def rotation(array,shift,axis):\n",
    "    import numpy as np\n",
    "    x = np.array(array)\n",
    "    if x.ndim == 1:\n",
    "        axis = 0\n",
    "        return np.roll(x,shift,axis)\n",
    "    else:\n",
    "        return np.roll(x,shift,axis)"
   ]
  },
  {
   "cell_type": "code",
   "execution_count": 78,
   "id": "9491472f",
   "metadata": {},
   "outputs": [
    {
     "data": {
      "text/plain": [
       "array([[3, 1, 2],\n",
       "       [6, 4, 5]])"
      ]
     },
     "execution_count": 78,
     "metadata": {},
     "output_type": "execute_result"
    }
   ],
   "source": [
    "rotation([[1,2,3],[4,5,6]],1,1)"
   ]
  },
  {
   "cell_type": "code",
   "execution_count": 80,
   "id": "0e6ff3c9",
   "metadata": {},
   "outputs": [
    {
     "data": {
      "text/plain": [
       "array([2, 3, 1])"
      ]
     },
     "execution_count": 80,
     "metadata": {},
     "output_type": "execute_result"
    }
   ],
   "source": [
    "rotation([1,2,3],2,1)"
   ]
  },
  {
   "cell_type": "code",
   "execution_count": 81,
   "id": "34d5f709",
   "metadata": {},
   "outputs": [
    {
     "data": {
      "text/plain": [
       "array([3, 1, 2])"
      ]
     },
     "execution_count": 81,
     "metadata": {},
     "output_type": "execute_result"
    }
   ],
   "source": [
    "rotation([1,2,3],1,0)"
   ]
  },
  {
   "cell_type": "markdown",
   "id": "3e52d939",
   "metadata": {},
   "source": [
    "### 4. Write a Python Program to Split the array and add the first part to the end?"
   ]
  },
  {
   "cell_type": "code",
   "execution_count": 120,
   "id": "eba99582",
   "metadata": {},
   "outputs": [],
   "source": [
    "def split_addition(array,position):\n",
    "    import numpy as np\n",
    "    x = np.array(array)\n",
    "    return np.concatenate((x[position:],x[:position]), axis = 0)"
   ]
  },
  {
   "cell_type": "code",
   "execution_count": 212,
   "id": "6777815c",
   "metadata": {},
   "outputs": [
    {
     "data": {
      "text/plain": [
       "array([3, 4, 1, 2])"
      ]
     },
     "execution_count": 212,
     "metadata": {},
     "output_type": "execute_result"
    }
   ],
   "source": [
    "split_addition([1,2,3,4],2)"
   ]
  },
  {
   "cell_type": "markdown",
   "id": "aa375779",
   "metadata": {},
   "source": [
    "### 5. Write a Python Program to check if given array is Monotonic?"
   ]
  },
  {
   "cell_type": "code",
   "execution_count": 258,
   "id": "349be854",
   "metadata": {},
   "outputs": [],
   "source": [
    "def check(array):\n",
    "    import numpy as np\n",
    "    x = np.sort(np.array(array),0)\n",
    "    y = x[-1::-1]\n",
    "    if np.array_equal(array,x): \n",
    "        print('monotonic')\n",
    "   # elif (y == check).all():\n",
    "    #    print('monotonic')\n",
    "   # else:\n",
    "    #    print('non-monotonic')"
   ]
  },
  {
   "cell_type": "code",
   "execution_count": 259,
   "id": "df0eb6c5",
   "metadata": {},
   "outputs": [],
   "source": [
    "check([1,2,3,4])"
   ]
  },
  {
   "cell_type": "code",
   "execution_count": 260,
   "id": "991decd7",
   "metadata": {},
   "outputs": [],
   "source": [
    "check([4,3,2,1])"
   ]
  },
  {
   "cell_type": "code",
   "execution_count": 261,
   "id": "e309394f",
   "metadata": {},
   "outputs": [],
   "source": [
    "check([4,5,2,1])"
   ]
  },
  {
   "cell_type": "code",
   "execution_count": 249,
   "id": "5bf41786",
   "metadata": {},
   "outputs": [
    {
     "data": {
      "text/plain": [
       "array([4, 3, 2, 1])"
      ]
     },
     "execution_count": 249,
     "metadata": {},
     "output_type": "execute_result"
    }
   ],
   "source": [
    "x = np.sort(np.array([1,2,4,3]),0)\n",
    "x[-1::-1]"
   ]
  },
  {
   "cell_type": "code",
   "execution_count": 216,
   "id": "06013e9e",
   "metadata": {},
   "outputs": [
    {
     "data": {
      "text/plain": [
       "array([[1, 2, 4, 5],\n",
       "       [2, 5, 6, 8]])"
      ]
     },
     "execution_count": 216,
     "metadata": {},
     "output_type": "execute_result"
    }
   ],
   "source": [
    "x = np.sort(np.array([[2,5,1,4],[5,6,2,8]]),1)\n",
    "x"
   ]
  },
  {
   "cell_type": "code",
   "execution_count": null,
   "id": "b1027da3",
   "metadata": {},
   "outputs": [],
   "source": []
  }
 ],
 "metadata": {
  "kernelspec": {
   "display_name": "Python 3 (ipykernel)",
   "language": "python",
   "name": "python3"
  },
  "language_info": {
   "codemirror_mode": {
    "name": "ipython",
    "version": 3
   },
   "file_extension": ".py",
   "mimetype": "text/x-python",
   "name": "python",
   "nbconvert_exporter": "python",
   "pygments_lexer": "ipython3",
   "version": "3.9.13"
  }
 },
 "nbformat": 4,
 "nbformat_minor": 5
}
