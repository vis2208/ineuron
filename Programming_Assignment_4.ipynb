{
 "cells": [
  {
   "cell_type": "markdown",
   "id": "20cb4340",
   "metadata": {
    "id": "20cb4340"
   },
   "source": [
    "## Programming Assignment_4\n",
    "----------------"
   ]
  },
  {
   "cell_type": "markdown",
   "id": "4fdb6695",
   "metadata": {
    "id": "4fdb6695"
   },
   "source": [
    "### 1. Write a Python Program to Find the Factorial of a Number?"
   ]
  },
  {
   "cell_type": "code",
   "execution_count": 1,
   "id": "hOeAnUwS8YPP",
   "metadata": {
    "id": "hOeAnUwS8YPP"
   },
   "outputs": [],
   "source": [
    "def factorial(x):\n",
    "    factorial_list = []\n",
    "    for i in range(1,x+1):\n",
    "        if x % i == 0:\n",
    "            factorial_list.append(i)\n",
    "    print(factorial_list)\n",
    "            "
   ]
  },
  {
   "cell_type": "code",
   "execution_count": 2,
   "id": "01be474b",
   "metadata": {},
   "outputs": [
    {
     "name": "stdout",
     "output_type": "stream",
     "text": [
      "[1, 2, 5, 10]\n"
     ]
    }
   ],
   "source": [
    "factorial(10)"
   ]
  },
  {
   "cell_type": "markdown",
   "id": "e6beef62",
   "metadata": {
    "id": "e6beef62"
   },
   "source": [
    "### 2. Write a Python Program to Display the multiplication Table?"
   ]
  },
  {
   "cell_type": "code",
   "execution_count": 3,
   "id": "KRlnRPqETMOx",
   "metadata": {
    "id": "KRlnRPqETMOx"
   },
   "outputs": [],
   "source": [
    "def multiplication_table(x):\n",
    "    for i in range(1,11):\n",
    "        print(i * x)"
   ]
  },
  {
   "cell_type": "code",
   "execution_count": 4,
   "id": "494a6c84",
   "metadata": {},
   "outputs": [
    {
     "name": "stdout",
     "output_type": "stream",
     "text": [
      "4\n",
      "8\n",
      "12\n",
      "16\n",
      "20\n",
      "24\n",
      "28\n",
      "32\n",
      "36\n",
      "40\n"
     ]
    }
   ],
   "source": [
    "multiplication_table(4)"
   ]
  },
  {
   "cell_type": "markdown",
   "id": "7de7eba5",
   "metadata": {
    "id": "7de7eba5"
   },
   "source": [
    "### 3. Write a Python Program to Print the Fibonacci sequence?\n"
   ]
  },
  {
   "cell_type": "code",
   "execution_count": 35,
   "id": "26d75c5c",
   "metadata": {},
   "outputs": [],
   "source": [
    "def fibonacci(x):\n",
    "    p1 = 0\n",
    "    p2 = 1\n",
    "    print(p1,p2, end = ' ')\n",
    "    for i in range(1,x-1):\n",
    "        p3 = p1 + p2\n",
    "        p1 = p2\n",
    "        p2 = p3\n",
    "        print(p3, end = ' ')"
   ]
  },
  {
   "cell_type": "code",
   "execution_count": 37,
   "id": "d40ea0d2",
   "metadata": {},
   "outputs": [
    {
     "name": "stdout",
     "output_type": "stream",
     "text": [
      "0 1 1 2 3 5 8 13 21 34 55 89 144 233 377 610 987 1597 2584 4181 "
     ]
    }
   ],
   "source": [
    "fibonacci(20)"
   ]
  },
  {
   "cell_type": "markdown",
   "id": "0446442e",
   "metadata": {
    "id": "0446442e"
   },
   "source": [
    "### 4. Write a Python Program to Check Armstrong Number?"
   ]
  },
  {
   "cell_type": "code",
   "execution_count": 49,
   "id": "e9c63e78",
   "metadata": {},
   "outputs": [],
   "source": [
    "def armstrong_number(x):\n",
    "    power = len(str(x))\n",
    "    value = [int(i)**power for i in str(x)]\n",
    "    total = sum(value)\n",
    "    if total == x :\n",
    "        print('an armstrong number')\n",
    "    else:\n",
    "        print('Not a armstrong number ')\n",
    "        \n",
    "        "
   ]
  },
  {
   "cell_type": "code",
   "execution_count": 53,
   "id": "a6ebd90e",
   "metadata": {},
   "outputs": [
    {
     "name": "stdout",
     "output_type": "stream",
     "text": [
      "an armstrong number\n"
     ]
    }
   ],
   "source": [
    "armstrong_number(1)"
   ]
  },
  {
   "cell_type": "code",
   "execution_count": 51,
   "id": "f760f989",
   "metadata": {},
   "outputs": [
    {
     "name": "stdout",
     "output_type": "stream",
     "text": [
      "Not a armstrong number \n"
     ]
    }
   ],
   "source": [
    "armstrong_number(17)"
   ]
  },
  {
   "cell_type": "code",
   "execution_count": 54,
   "id": "ef8b5647",
   "metadata": {},
   "outputs": [
    {
     "name": "stdout",
     "output_type": "stream",
     "text": [
      "an armstrong number\n"
     ]
    }
   ],
   "source": [
    "armstrong_number(153)"
   ]
  },
  {
   "cell_type": "code",
   "execution_count": 55,
   "id": "ec53f431",
   "metadata": {},
   "outputs": [
    {
     "name": "stdout",
     "output_type": "stream",
     "text": [
      "an armstrong number\n"
     ]
    }
   ],
   "source": [
    "armstrong_number(370)"
   ]
  },
  {
   "cell_type": "markdown",
   "id": "a6f9adfe",
   "metadata": {
    "id": "a6f9adfe"
   },
   "source": [
    "### 5. Write a Python Program to Find Armstrong Number in an Interval?"
   ]
  },
  {
   "cell_type": "code",
   "execution_count": 77,
   "id": "8904feab",
   "metadata": {},
   "outputs": [],
   "source": [
    "def check_armstrong_number(x1,x2):\n",
    "    armstrong_number = []\n",
    "    for x in range(x1,x2+1):\n",
    "        power = len(str(x))\n",
    "        value = [int(i)**power for i in str(x)]\n",
    "        total = sum(value)\n",
    "        if total == x :\n",
    "            armstrong_number.append(x)\n",
    "    print(armstrong_number)\n",
    "    "
   ]
  },
  {
   "cell_type": "code",
   "execution_count": 80,
   "id": "7cdd957e",
   "metadata": {},
   "outputs": [
    {
     "name": "stdout",
     "output_type": "stream",
     "text": [
      "[1, 2, 3, 4, 5, 6, 7, 8, 9, 153]\n"
     ]
    }
   ],
   "source": [
    "check_armstrong_number(1,200)"
   ]
  },
  {
   "cell_type": "markdown",
   "id": "157cad60",
   "metadata": {
    "id": "157cad60"
   },
   "source": [
    "### 6. Write a Python Program to Find the Sum of Natural Numbers?"
   ]
  },
  {
   "cell_type": "code",
   "execution_count": null,
   "id": "11b93b8c",
   "metadata": {},
   "outputs": [],
   "source": [
    "def summation(x):\n",
    "    total = 0\n",
    "    for i in ranhe(1,x+1):\n",
    "        total += i\n",
    "    print()"
   ]
  }
 ],
 "metadata": {
  "colab": {
   "provenance": []
  },
  "kernelspec": {
   "display_name": "Python 3 (ipykernel)",
   "language": "python",
   "name": "python3"
  },
  "language_info": {
   "codemirror_mode": {
    "name": "ipython",
    "version": 3
   },
   "file_extension": ".py",
   "mimetype": "text/x-python",
   "name": "python",
   "nbconvert_exporter": "python",
   "pygments_lexer": "ipython3",
   "version": "3.9.13"
  }
 },
 "nbformat": 4,
 "nbformat_minor": 5
}
